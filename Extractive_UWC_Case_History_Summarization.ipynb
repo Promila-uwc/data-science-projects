{
  "nbformat": 4,
  "nbformat_minor": 0,
  "metadata": {
    "colab": {
      "provenance": [],
      "include_colab_link": true
    },
    "kernelspec": {
      "name": "python3",
      "display_name": "Python 3"
    },
    "language_info": {
      "name": "python"
    }
  },
  "cells": [
    {
      "cell_type": "markdown",
      "metadata": {
        "id": "view-in-github",
        "colab_type": "text"
      },
      "source": [
        "<a href=\"https://colab.research.google.com/github/Promila-uwc/data-science-projects/blob/main/Extractive_UWC_Case_History_Summarization.ipynb\" target=\"_parent\"><img src=\"https://colab.research.google.com/assets/colab-badge.svg\" alt=\"Open In Colab\"/></a>"
      ]
    },
    {
      "cell_type": "markdown",
      "source": [
        "# **Texts**"
      ],
      "metadata": {
        "id": "iUHydApe24Te"
      }
    },
    {
      "cell_type": "code",
      "source": [
        "text1 = \"\"\"The adolescent was previously diagnosed with major depressive disorder and treated intermittently with supportive psychotherapy and antidepressants. Her more recent episodes related to her parents’ marital problems and her academic/social difficulties at school. She was treated using cognitive-behavioral therapy (CBT).\"\"\""
      ],
      "metadata": {
        "id": "UhQPwWHu3ayS"
      },
      "execution_count": null,
      "outputs": []
    },
    {
      "cell_type": "code",
      "source": [
        "text2 = \"\"\"Sam was team captain of his soccer team, but an unexpected fight with another teammate prompted his parents to meet with a clinical psychologist. Sam was diagnosed with major depressive disorder after showing an increase in symptoms over the previous three months. Several recent challenges in his family and romantic life led the therapist to recommend interpersonal psychotherapy for adolescents (IPT-A).\"\"\""
      ],
      "metadata": {
        "id": "XvbtOpMC3czb"
      },
      "execution_count": null,
      "outputs": []
    },
    {
      "cell_type": "code",
      "source": [
        "text3 = \"\"\"Mark had a history of depression and sought treatment after his second marriage ended. His depression was characterized as being “controlled by a pattern of interpersonal avoidance.” The behavior/activation therapist asked Mark to complete an activity record to help steer the treatment sessions.\"\"\""
      ],
      "metadata": {
        "id": "yDxNJTFm3fTs"
      },
      "execution_count": null,
      "outputs": []
    },
    {
      "cell_type": "code",
      "source": [
        "text4 = \"\"\"Denise is described as having “nonchronic depression” which appeared most recently at the onset of her husband’s diagnosis with brain cancer. Her symptoms were loneliness, difficulty coping with daily life, and sadness. Treatment included filling out a weekly activity log and identifying/reconstructing automatic thoughts.\"\"\""
      ],
      "metadata": {
        "id": "nI_fMVneve0g"
      },
      "execution_count": null,
      "outputs": []
    },
    {
      "cell_type": "code",
      "source": [
        "text5 =\"\"\"Luke is described as having treatment-resistant depression and while not suicidal, hoped that a fatal illness would take his life or that he would just disappear. His treatment involved mindfulness-based cognitive therapy, which helps participants become aware of and recharacterize their overwhelming negative thoughts. It involves regular practice of mindfulness techniques and exercises as one component of therapy.\"\"\""
      ],
      "metadata": {
        "id": "XyKQfKwivuFk"
      },
      "execution_count": null,
      "outputs": []
    },
    {
      "cell_type": "code",
      "source": [
        "text6 =\"\"\"Peggy had a history of chronic depression, which flared during her husband’s illness and ultimate death. Guilt was a driving factor of her depressive symptoms, which lasted six months after his death. The clinician treated Peggy with psychodynamic therapy over a period of two years.\"\"\""
      ],
      "metadata": {
        "id": "KJDCwiQnvwqc"
      },
      "execution_count": null,
      "outputs": []
    },
    {
      "cell_type": "markdown",
      "source": [],
      "metadata": {
        "id": "b4h06nYSv0SK"
      }
    },
    {
      "cell_type": "markdown",
      "source": [
        "# **Extractive Summarization** \n",
        "\n",
        "\n",
        "\n"
      ],
      "metadata": {
        "id": "OMMmxYbR3VHw"
      }
    },
    {
      "cell_type": "code",
      "execution_count": null,
      "metadata": {
        "colab": {
          "base_uri": "https://localhost:8080/"
        },
        "outputId": "14ffd8e0-aeb9-4738-818e-9f50f95feb37",
        "id": "RTj2aCpE22h6"
      },
      "outputs": [
        {
          "output_type": "stream",
          "name": "stdout",
          "text": [
            "Looking in indexes: https://pypi.org/simple, https://us-python.pkg.dev/colab-wheels/public/simple/\n",
            "Requirement already satisfied: transformers in /usr/local/lib/python3.8/dist-packages (4.26.1)\n",
            "Requirement already satisfied: filelock in /usr/local/lib/python3.8/dist-packages (from transformers) (3.9.0)\n",
            "Requirement already satisfied: tqdm>=4.27 in /usr/local/lib/python3.8/dist-packages (from transformers) (4.64.1)\n",
            "Requirement already satisfied: tokenizers!=0.11.3,<0.14,>=0.11.1 in /usr/local/lib/python3.8/dist-packages (from transformers) (0.13.2)\n",
            "Requirement already satisfied: numpy>=1.17 in /usr/local/lib/python3.8/dist-packages (from transformers) (1.21.6)\n",
            "Requirement already satisfied: packaging>=20.0 in /usr/local/lib/python3.8/dist-packages (from transformers) (23.0)\n",
            "Requirement already satisfied: pyyaml>=5.1 in /usr/local/lib/python3.8/dist-packages (from transformers) (6.0)\n",
            "Requirement already satisfied: requests in /usr/local/lib/python3.8/dist-packages (from transformers) (2.25.1)\n",
            "Requirement already satisfied: regex!=2019.12.17 in /usr/local/lib/python3.8/dist-packages (from transformers) (2022.6.2)\n",
            "Requirement already satisfied: huggingface-hub<1.0,>=0.11.0 in /usr/local/lib/python3.8/dist-packages (from transformers) (0.12.1)\n",
            "Requirement already satisfied: typing-extensions>=3.7.4.3 in /usr/local/lib/python3.8/dist-packages (from huggingface-hub<1.0,>=0.11.0->transformers) (4.5.0)\n",
            "Requirement already satisfied: idna<3,>=2.5 in /usr/local/lib/python3.8/dist-packages (from requests->transformers) (2.10)\n",
            "Requirement already satisfied: certifi>=2017.4.17 in /usr/local/lib/python3.8/dist-packages (from requests->transformers) (2022.12.7)\n",
            "Requirement already satisfied: chardet<5,>=3.0.2 in /usr/local/lib/python3.8/dist-packages (from requests->transformers) (4.0.0)\n",
            "Requirement already satisfied: urllib3<1.27,>=1.21.1 in /usr/local/lib/python3.8/dist-packages (from requests->transformers) (1.24.3)\n"
          ]
        }
      ],
      "source": [
        "pip install transformers\n"
      ]
    },
    {
      "cell_type": "code",
      "source": [
        "pip install bert-extractive-summarizer\n"
      ],
      "metadata": {
        "colab": {
          "base_uri": "https://localhost:8080/"
        },
        "id": "pGzElFgd8GaM",
        "outputId": "fb5b846f-2e29-4152-ace1-aa0874f5b337"
      },
      "execution_count": null,
      "outputs": [
        {
          "output_type": "stream",
          "name": "stdout",
          "text": [
            "Looking in indexes: https://pypi.org/simple, https://us-python.pkg.dev/colab-wheels/public/simple/\n",
            "Requirement already satisfied: bert-extractive-summarizer in /usr/local/lib/python3.8/dist-packages (0.10.1)\n",
            "Requirement already satisfied: transformers in /usr/local/lib/python3.8/dist-packages (from bert-extractive-summarizer) (4.26.1)\n",
            "Requirement already satisfied: scikit-learn in /usr/local/lib/python3.8/dist-packages (from bert-extractive-summarizer) (1.0.2)\n",
            "Requirement already satisfied: spacy in /usr/local/lib/python3.8/dist-packages (from bert-extractive-summarizer) (3.4.4)\n",
            "Requirement already satisfied: joblib>=0.11 in /usr/local/lib/python3.8/dist-packages (from scikit-learn->bert-extractive-summarizer) (1.2.0)\n",
            "Requirement already satisfied: scipy>=1.1.0 in /usr/local/lib/python3.8/dist-packages (from scikit-learn->bert-extractive-summarizer) (1.7.3)\n",
            "Requirement already satisfied: numpy>=1.14.6 in /usr/local/lib/python3.8/dist-packages (from scikit-learn->bert-extractive-summarizer) (1.21.6)\n",
            "Requirement already satisfied: threadpoolctl>=2.0.0 in /usr/local/lib/python3.8/dist-packages (from scikit-learn->bert-extractive-summarizer) (3.1.0)\n",
            "Requirement already satisfied: wasabi<1.1.0,>=0.9.1 in /usr/local/lib/python3.8/dist-packages (from spacy->bert-extractive-summarizer) (0.10.1)\n",
            "Requirement already satisfied: pydantic!=1.8,!=1.8.1,<1.11.0,>=1.7.4 in /usr/local/lib/python3.8/dist-packages (from spacy->bert-extractive-summarizer) (1.10.4)\n",
            "Requirement already satisfied: spacy-loggers<2.0.0,>=1.0.0 in /usr/local/lib/python3.8/dist-packages (from spacy->bert-extractive-summarizer) (1.0.4)\n",
            "Requirement already satisfied: smart-open<7.0.0,>=5.2.1 in /usr/local/lib/python3.8/dist-packages (from spacy->bert-extractive-summarizer) (6.3.0)\n",
            "Requirement already satisfied: cymem<2.1.0,>=2.0.2 in /usr/local/lib/python3.8/dist-packages (from spacy->bert-extractive-summarizer) (2.0.7)\n",
            "Requirement already satisfied: packaging>=20.0 in /usr/local/lib/python3.8/dist-packages (from spacy->bert-extractive-summarizer) (23.0)\n",
            "Requirement already satisfied: setuptools in /usr/local/lib/python3.8/dist-packages (from spacy->bert-extractive-summarizer) (57.4.0)\n",
            "Requirement already satisfied: requests<3.0.0,>=2.13.0 in /usr/local/lib/python3.8/dist-packages (from spacy->bert-extractive-summarizer) (2.25.1)\n",
            "Requirement already satisfied: tqdm<5.0.0,>=4.38.0 in /usr/local/lib/python3.8/dist-packages (from spacy->bert-extractive-summarizer) (4.64.1)\n",
            "Requirement already satisfied: jinja2 in /usr/local/lib/python3.8/dist-packages (from spacy->bert-extractive-summarizer) (2.11.3)\n",
            "Requirement already satisfied: spacy-legacy<3.1.0,>=3.0.10 in /usr/local/lib/python3.8/dist-packages (from spacy->bert-extractive-summarizer) (3.0.12)\n",
            "Requirement already satisfied: pathy>=0.3.5 in /usr/local/lib/python3.8/dist-packages (from spacy->bert-extractive-summarizer) (0.10.1)\n",
            "Requirement already satisfied: srsly<3.0.0,>=2.4.3 in /usr/local/lib/python3.8/dist-packages (from spacy->bert-extractive-summarizer) (2.4.5)\n",
            "Requirement already satisfied: preshed<3.1.0,>=3.0.2 in /usr/local/lib/python3.8/dist-packages (from spacy->bert-extractive-summarizer) (3.0.8)\n",
            "Requirement already satisfied: typer<0.8.0,>=0.3.0 in /usr/local/lib/python3.8/dist-packages (from spacy->bert-extractive-summarizer) (0.7.0)\n",
            "Requirement already satisfied: langcodes<4.0.0,>=3.2.0 in /usr/local/lib/python3.8/dist-packages (from spacy->bert-extractive-summarizer) (3.3.0)\n",
            "Requirement already satisfied: thinc<8.2.0,>=8.1.0 in /usr/local/lib/python3.8/dist-packages (from spacy->bert-extractive-summarizer) (8.1.7)\n",
            "Requirement already satisfied: murmurhash<1.1.0,>=0.28.0 in /usr/local/lib/python3.8/dist-packages (from spacy->bert-extractive-summarizer) (1.0.9)\n",
            "Requirement already satisfied: catalogue<2.1.0,>=2.0.6 in /usr/local/lib/python3.8/dist-packages (from spacy->bert-extractive-summarizer) (2.0.8)\n",
            "Requirement already satisfied: huggingface-hub<1.0,>=0.11.0 in /usr/local/lib/python3.8/dist-packages (from transformers->bert-extractive-summarizer) (0.12.1)\n",
            "Requirement already satisfied: tokenizers!=0.11.3,<0.14,>=0.11.1 in /usr/local/lib/python3.8/dist-packages (from transformers->bert-extractive-summarizer) (0.13.2)\n",
            "Requirement already satisfied: pyyaml>=5.1 in /usr/local/lib/python3.8/dist-packages (from transformers->bert-extractive-summarizer) (6.0)\n",
            "Requirement already satisfied: filelock in /usr/local/lib/python3.8/dist-packages (from transformers->bert-extractive-summarizer) (3.9.0)\n",
            "Requirement already satisfied: regex!=2019.12.17 in /usr/local/lib/python3.8/dist-packages (from transformers->bert-extractive-summarizer) (2022.6.2)\n",
            "Requirement already satisfied: typing-extensions>=3.7.4.3 in /usr/local/lib/python3.8/dist-packages (from huggingface-hub<1.0,>=0.11.0->transformers->bert-extractive-summarizer) (4.5.0)\n",
            "Requirement already satisfied: certifi>=2017.4.17 in /usr/local/lib/python3.8/dist-packages (from requests<3.0.0,>=2.13.0->spacy->bert-extractive-summarizer) (2022.12.7)\n",
            "Requirement already satisfied: idna<3,>=2.5 in /usr/local/lib/python3.8/dist-packages (from requests<3.0.0,>=2.13.0->spacy->bert-extractive-summarizer) (2.10)\n",
            "Requirement already satisfied: urllib3<1.27,>=1.21.1 in /usr/local/lib/python3.8/dist-packages (from requests<3.0.0,>=2.13.0->spacy->bert-extractive-summarizer) (1.24.3)\n",
            "Requirement already satisfied: chardet<5,>=3.0.2 in /usr/local/lib/python3.8/dist-packages (from requests<3.0.0,>=2.13.0->spacy->bert-extractive-summarizer) (4.0.0)\n",
            "Requirement already satisfied: blis<0.8.0,>=0.7.8 in /usr/local/lib/python3.8/dist-packages (from thinc<8.2.0,>=8.1.0->spacy->bert-extractive-summarizer) (0.7.9)\n",
            "Requirement already satisfied: confection<1.0.0,>=0.0.1 in /usr/local/lib/python3.8/dist-packages (from thinc<8.2.0,>=8.1.0->spacy->bert-extractive-summarizer) (0.0.4)\n",
            "Requirement already satisfied: click<9.0.0,>=7.1.1 in /usr/local/lib/python3.8/dist-packages (from typer<0.8.0,>=0.3.0->spacy->bert-extractive-summarizer) (7.1.2)\n",
            "Requirement already satisfied: MarkupSafe>=0.23 in /usr/local/lib/python3.8/dist-packages (from jinja2->spacy->bert-extractive-summarizer) (2.0.1)\n"
          ]
        }
      ]
    },
    {
      "cell_type": "code",
      "source": [
        "from summarizer import Summarizer\n"
      ],
      "metadata": {
        "id": "hiixjaUX8NNc"
      },
      "execution_count": null,
      "outputs": []
    },
    {
      "cell_type": "code",
      "source": [
        "bert_model = Summarizer()\n",
        "\n"
      ],
      "metadata": {
        "colab": {
          "base_uri": "https://localhost:8080/"
        },
        "id": "qx1cGD_J0Z2m",
        "outputId": "5e69d280-2f1b-4c4d-ac5d-454566ec3ded"
      },
      "execution_count": null,
      "outputs": [
        {
          "output_type": "stream",
          "name": "stderr",
          "text": [
            "Some weights of the model checkpoint at bert-large-uncased were not used when initializing BertModel: ['cls.seq_relationship.bias', 'cls.seq_relationship.weight', 'cls.predictions.transform.dense.bias', 'cls.predictions.transform.dense.weight', 'cls.predictions.decoder.weight', 'cls.predictions.bias', 'cls.predictions.transform.LayerNorm.bias', 'cls.predictions.transform.LayerNorm.weight']\n",
            "- This IS expected if you are initializing BertModel from the checkpoint of a model trained on another task or with another architecture (e.g. initializing a BertForSequenceClassification model from a BertForPreTraining model).\n",
            "- This IS NOT expected if you are initializing BertModel from the checkpoint of a model that you expect to be exactly identical (initializing a BertForSequenceClassification model from a BertForSequenceClassification model).\n"
          ]
        }
      ]
    },
    {
      "cell_type": "code",
      "source": [
        "# text = \"\"\"One month after the United States began what has become a troubled rollout of a national COVID vaccination campaign, the effort is finally gathering real steam.\n",
        "# Close to a million doses -- over 951,000, to be more exact -- made their way into the arms of Americans in the past 24 hours, the U.S. Centers for Disease Control and Prevention reported Wednesday. That's the largest number of shots given in one day since the rollout began and a big jump from the previous day, when just under 340,000 doses were given, CBS News reported.\n",
        "# That number is likely to jump quickly after the federal government on Tuesday gave states the OK to vaccinate anyone over 65 and said it would release all the doses of vaccine it has available for distribution. Meanwhile, a number of states have now opened mass vaccination sites in an effort to get larger numbers of people inoculated, CBS News reported.\"\"\""
      ],
      "metadata": {
        "id": "va4aT_of0nfM"
      },
      "execution_count": null,
      "outputs": []
    },
    {
      "cell_type": "code",
      "source": [
        "def abstractive_text(text):\n",
        " summary_text = bert_model(text, ratio=0.1)\n",
        " return summary_text"
      ],
      "metadata": {
        "id": "LmrVyBg10s-E"
      },
      "execution_count": null,
      "outputs": []
    },
    {
      "cell_type": "code",
      "source": [
        "text=\"\"\"The patient was a 15-year-old Puerto Rican adolescent female living with both her parents and a younger sibling. Her parents presented with significant marital problems had been separated several times and were discussing divorce. Her mother reported having a history of psychiatric treatment for depression and anxiety and indicated that the patient's father suffered from bipolar disorder and had been receiving psychiatric treatment. He was hospitalized on multiple occasions during previous years for serious psychiatric symptoms. The patient was failing several classes in school, and her family was in the process of looking for a new school due to her failing grades and difficulties getting along with her classmates. She presented the following symptoms: frequent sadness and crying, increased appetite and overeating, guilt, low self-concept, anxiety, irritability, insomnia, hopelessness, and difficulty concentrating. In addition, she presented difficulties in her interpersonal relationships, persistent negative thoughts about her appearance and scholastic abilities, as well as guilt regarding her parents' marital problems. The patient's medical history revealed that she suffered from asthma, used eyeglasses, and was overweight. Her mother reported that she had been previously diagnosed with MDD 3 years ago and was treated intermittently for 2 years with supportive psychotherapy and anti-depressants (fluoxetine and sertraline; no dosage information available). This first episode was triggered by rejection by a boy for whom she had romantic feelings. Her most recent episode appeared to be related to her parents' marital problems and to academic and social difficulties at school. DIAGNOSIS A diagnosis of MDD was established using the Diagnostic Interview Schedule for Children (DISC-IV).16 In addition, according to the DISC-IV, she also met criteria for generalized anxiety disorder, separation anxiety disorder, and attention deficit disorder. Symptoms of depression were assessed every 2–4 weeks throughout therapy using the Children's Depression Inventory—CDI17 (Fig. 1). The Children's Depression Rating Scale—CDRS-R18 was also used to assess depressive symptoms at baseline, termination, and follow-up (Table 1). In addition, other variables related to depression were assessed at pre, mid, post and follow-up treatment using the Piers Harris Children's Self-concept Scale—PHCSC,19 the Hopelessness Scale for Children—HSC,20 the Dysfunctional Attitude Scale—DAS,21 and the Suicide Ideation Questionnaire—SIQ-Jr22 (Table 1). At pretreatment evaluation the patient presented depressive symptoms in the severe range and high suicidal ideation, as well as highly dysfunctional attitudes and low self-concept. TREATMENT The patient was treated using a manual-based CBT, which has demonstrated success in treating depression in Puerto Rican adolescents.8, 11 She participated in a research project on therapy for depression in adolescents, which compared a standard 12-session “dose” of CBT only, with CBT enhanced with a group psycho-educational 8-session parent intervention. She was randomized into the CBT only condition of the study. As part of a supplemental research project, additional sessions (up to a maximum of 12) were offered to adolescents whose depression did not remit at posttreatment to examine the optimal dose needed for complete remission as well as characteristics associated with treatment response. Five adolescents agreed to participate in this study and received an average of seven additional sessions. The adolescent chosen for the case study had a therapist who was a doctoral level graduate student in clinical psychology trained in CBT who received weekly supervision from a licensed clinical psychologist with a Ph.D. Qualitative data for this case study were analyzed by reviewing progress notes and video recordings of therapy sessions. SESSIONS 1–4 The first four sessions focused on teaching the patient about the influence of thoughts on mood and strategies to debate dysfunctional thought patterns and increase positive thoughts. During the week, the patient was asked to complete a daily mood thermometer, which was discussed at the beginning of every session. Homework assignments such as keeping a daily log of positive and negative thoughts and identifying and challenging dysfunctional thoughts were some of the homework assignments that the patient completed between sessions. The patient's mood fluctuated widely during these first sessions. She cried several times and verbalized feelings of sadness, guilt, and low self-concept. The main dysfunctional thoughts identified and challenged during these sessions were mostly about herself (I'm ugly and stupid; People look at me because I'm fat), anxiety over not being able to fit in at a new school (I won't know anyone; I'll be far away from my friends; It'll be too hard), and guilt about her parents' marital problems (My parents fight because of me; If I had better grades they wouldn't fight). By the fourth session, she succeeded in rationally challenging several of these negative thoughts (I can make new friends; I have a chance to start over at a new school; I am good at drawing and I have a good sense of humor). Nonetheless, many negative thoughts persisted, mostly surrounding her parents' relationship. By the end of this therapy module, the patient began to share some of her artistic talents with the therapist and her self-concept appeared to be improving. SESSIONS 5–8 The following four sessions worked with increasing pleasant activities, time management, and goal setting to improve mood. Homework assignments in this module involved keeping a daily log of pleasant activities, completing a weekly planner, and establishing specific goals and steps to complete them. By the 5th session, the patient's mood improved significantly, most likely due to having a positive experience at her new school; she had made new friends, her grades had improved, and she was getting along well with her teachers. She also reported a decrease in depressive symptoms (Fig. 1). This positive experience at school was used in therapy to help the patient challenge negative thoughts and expectations by providing evidence that disqualified them (i.e. she is likeable, she can cope in a new school). Consequently, the number of negative thoughts she had decreased markedly, and this reduction was reinforced verbally by the therapist. The patient recognized that one of the barriers to enjoying pleasant activities, particularly social activities, was her negative thoughts (I'll make a fool of myself; I won't do it right; I'll be rejected by others) and her parents (obtaining permission for certain activities). The patient kept track of her pleasant activities and began to organize her time better to accommodate her homework and chores by using a weekly planner. This allowed the patient and therapist to evaluate whether she had an adequate balance of pleasant activities in her schedule that helped improve her mood and make adjustments accordingly. Role-playing exercises were used to help the patient learn to negotiate permission from her parents to participate in social activities. Her self-concept continued to improve as evidenced by her verbalizations (Sometimes I feel pretty) and her physical appearance (increased confidence, better posture, and grooming). The therapist reflected these observations back to the patient. She was also handling stressful situations better as evidenced by her reaction to being teased at school; she simply ignored it instead of feeling sad and having persistent negative thoughts about herself, which would have typically been her response. This suggests that the patient was internalizing skills learned in the first few sessions, such as thought-stopping techniques to decrease negative rumination. SESSIONS 9–12 The last four sessions worked on the ways in which interpersonal relationships affect mood and focused on increasing and maintaining social support, as well as improving assertive communication skills. The patient reported having a good social support system, but complained about one of her close friends who would often put her down; this would activate negative thoughts about her abilities and attractiveness. This relationship was examined in the context of adequate expectations for friendships. The patient presented a passive communication style, which was contributing to feeling hurt frequently and having her emotional needs unmet. Thus, the focus of two sessions was to work on developing assertiveness through role-playing exercises. She reported some upsetting incidents at school between her new and old friends but appeared to be handling them well using cognitive strategies learned in the first module. However, during the last few sessions of this module the patient was still experiencing feelings of guilt, anger, and sadness about her parents' marital problems. Notably, she was disturbed by significant communication problems between her parents who often spoke negatively about one another in her presence and used her as a messenger to communicate with each other. She confided in the therapist about having witnessed physical and emotional abuse between her parents, as well as living through several separations over the previous 10 years. The therapist explored the possibility of having a session with her parents to discuss how their problems affected the patient, and she agreed. During this session the therapist discussed with the parents how their behavior was contributing to the patient's depressive symptoms and recommended marital therapy. The parents admitted to having significant problems and agreed to seek couples therapy. ADDITIONAL SESSIONS (13–16) On completion of the standard 12-session “dose” of CBT, the patient was still presenting symptoms of depression in the severe range (Fig. 1) and continued to meet criteria for MDD; hence, she received additional sessions of CBT until her symptoms decreased and she no longer met MDD criteria according to the DISC-IV, as established by the study's protocol for additional sessions. These four sessions worked mostly with the patient's feelings and thoughts surrounding the possibility of her parents' divorce or separation. The focus was on how to manage these feelings in order to decrease their impact on her mood and daily functioning. The patient's main negative thoughts were mostly related to fear that her father would leave and never contact her, and that he would remarry and have another family with whom she might not get along. These were challenged in therapy by asking the patient to find evidence that these thoughts would actually come true. The patient realized that most of her friends whose parents had divorced had good relationships with them and their new families, and acknowledged that although her father had often threatened to leave, he had also told her that he would always be there for her. She also realized that it was possible that things would be better if they separated and that their fights might even decrease. In addition, role-playing exercises were used to practice talking to her father about her fears and worries regarding the possibility of his leaving and how it would affect their relationship. On termination, the patient's depressive symptoms were in the moderate range and she no longer met criteria for MDD according to the DISC-IV, which was one of the study's criteria for ending therapy. In addition, her self-concept had improved, and the therapist observed decreased dysfunctional attitudes and suicidal ideation (Table 1). These improvements were maintained at 6 and 12-month follow-up assessments, and her depressive symptoms decreased to mild by the last three follow-up assessments. During the last session, the therapist worked on closure with the patient, reinforced improvements in the patient's mood and coping skills, and counseled the patient on relapse prevention strategies. Relapse prevention strategies include monitoring depressive symptoms and recognizing the need for treatment if they worsen or recur, and using cognitive-behavioral strategies to manage her mood (i.e. debating dysfunctional thoughts, planning pleasant activities). The therapist also counseled the patient's mother on how to monitor her daughter's residual symptoms and the importance of seeking treatment if symptoms worsened. She also reiterated her previous recommendation that the parents seek couples counseling, which they had yet to do. DISCUSSION In this case, CBT appeared to reduce depressive symptoms as well as dysfunctional attitudes and suicidal ideation. The number of CBT sessions needed to achieve partial remission in this case was 16; four additional sessions to the standard 12 in most CBT studies. In addition, the patient continued to show improvements several months posttreatment in depressive symptoms and other related areas of outcome such as low self-concept and dysfunctional attitudes. Nonetheless, a possible limitation in the interpretation of these results is that improvements in depressive symptoms might be attributed to common factors (e.g. talking about one's problems with an attentive professional, receiving a credible treatment rationale, etc.) that reduce feelings of hopelessness in the patient.23 In addition, simply the passing of time could account for the changes, since studies have found that some patients with depression recover without treatment. This patient presented several of the characteristics that have been found to be related in the literature to partial or limited response to treatment: greater initial severity of depressive symptoms, earlier depressive episodes, co-morbidity with other mental disorders, and parental conflict. Although she met diagnostic criteria for generalized anxiety disorder, separation anxiety disorder, and attention deficit disorder at pretreatment, these diagnoses were not evident in therapy sessions; hence, they were not specifically addressed in treatment. Also, she was participating in a research trial that tested a manual-based CBT depression intervention, which was not designed to address symptoms of other disorders although many cognitive and behavioral strategies used in the manual could generalize to symptoms of anxiety.7 The CBT research literature is beginning to recognize that treatments for specific disorders evaluated in clinical trials may not always generalize to “real world” settings. Youth treated in community mental health clinics tend to have higher rates of co-morbidity, and depression tends to be more chronic and severe, often resulting in lower treatment effects.9 As a result, some investigators are recommending that CBT manual-based treatments be tested in effectiveness trials and become more flexible in content, structure, and format, in addition to involving other family members in therapy.24 The most significant stressor contributing to the maintenance of this patient's symptoms was parental conflict. This was evidenced by her fluctuating mood throughout therapy, which appeared to be contingent upon thoughts relating to her parents' relationship. Familismo is an important value in Puerto Rican and other Latino cultures, and there is a strong correlation between parental and family variables to adolescent depression.25, 26 Forty percent (40%) of Puerto Rican adolescents in a clinical trial of treatment for depression considered their most frequent problem to be a family problem27 and 70% considered their most frequent interpersonal problem to involve one or both parents.28 Familismo is a cultural value that refers to a traditional modality in Latino cultures that reflects the importance of family integrity, both nuclear and extended.29 It shapes members' conduct by expecting them to protect the safety and interests of other members and thus avoid bringing negative public attention to the family's honor. This might explain why family factors had a significant role in maintaining the patient's depressive symptoms despite the presence of other protective factors such as positive friendships and academic experiences. She required four additional CBT sessions and a session with her parents to address parental conflict. It is not clear whether this emphasis on the family context and its acceptance by this Latino adolescent would be the same for a non-Latino girl. While CBT and anti-depressants alone appear to have been partially effective in this case, a combination of the two might have proven to be a better alternative for complete recovery and prevention of relapse. In addition, booster sessions have been found to accelerate the recovery of nonresponders to CBT1 and might have helped improve response in this case after therapy termination. Other alternative or complementary treatment modalities such as family therapy should also be considered for depression in adolescence that presents limited response to treatment, particularly with Latino populations in which the family can play a significant role in the perpetuation of depressive symptoms. Family therapy has been found to be efficacious with Latino youth presenting externalizing disorders30 however, no studies using family therapy for depression in Latino youth have been identified. Family therapy has recently begun to be studied as an intervention for depressed youth demonstrating preliminary positive results.31, 32 This case study illustrates some of the challenges of using manual-based CBT and the variability in response to depression treatment. Cases such as this one, with partial response and significant family stressors, will often require additional sessions as well as modifications in the treatment manual to specifically address these issues in order to achieve complete remission. Some alternatives can be dismantling treatment to address the patients' particular needs and strengths by increasing the emphasis on certain treatment components (i.e. interpersonal skills, behavioral activation), and adding specific family and/or parent–child modules to address conflict and communication. This case study provides further support to the recommendations mentioned above that investigators have offered along this line in the treatment of youth depression.2, 7, 9, 32, 33 Also, identifying the characteristics associated with treatment response in the initial stages of treatment can help inform treatment planning in terms of selection of treatment format, components, and number of sessions (“dosage”) to maximize positive outcomes.\"\"\""
      ],
      "metadata": {
        "id": "8pa5wKe66LkD"
      },
      "execution_count": null,
      "outputs": []
    },
    {
      "cell_type": "code",
      "source": [
        "size = 0.1"
      ],
      "metadata": {
        "id": "1AXzbPiw_iL8"
      },
      "execution_count": null,
      "outputs": []
    },
    {
      "cell_type": "code",
      "source": [
        "print(abstractive_text(text))"
      ],
      "metadata": {
        "colab": {
          "base_uri": "https://localhost:8080/"
        },
        "id": "bs3SYgSx2s1r",
        "outputId": "40edfb88-d289-4f1d-c86e-71b6b68f431c"
      },
      "execution_count": null,
      "outputs": [
        {
          "output_type": "stream",
          "name": "stdout",
          "text": [
            "The patient was a 15-year-old Puerto Rican adolescent female living with both her parents and a younger sibling. He was hospitalized on multiple occasions during previous years for serious psychiatric symptoms. The patient's medical history revealed that she suffered from asthma, used eyeglasses, and was overweight. In addition, other variables related to depression were assessed at pre, mid, post and follow-up treatment using the Piers Harris Children's Self-concept Scale—PHCSC,19 the Hopelessness Scale for Children—HSC,20 the Dysfunctional Attitude Scale—DAS,21 and the Suicide Ideation Questionnaire—SIQ-Jr22 (Table 1). By the end of this therapy module, the patient began to share some of her artistic talents with the therapist and her self-concept appeared to be improving. This allowed the patient and therapist to evaluate whether she had an adequate balance of pleasant activities in her schedule that helped improve her mood and make adjustments accordingly. This suggests that the patient was internalizing skills learned in the first few sessions, such as thought-stopping techniques to decrease negative rumination. During the last session, the therapist worked on closure with the patient, reinforced improvements in the patient's mood and coping skills, and counseled the patient on relapse prevention strategies. In addition, the patient continued to show improvements several months posttreatment in depressive symptoms and other related areas of outcome such as low self-concept and dysfunctional attitudes. She required four additional CBT sessions and a session with her parents to address parental conflict.\n"
          ]
        }
      ]
    },
    {
      "cell_type": "code",
      "source": [
        "pip install gradio"
      ],
      "metadata": {
        "colab": {
          "base_uri": "https://localhost:8080/"
        },
        "id": "ziNxG0zd0tJM",
        "outputId": "ba57427f-ae31-4dab-a7ff-4376fdff6be5"
      },
      "execution_count": null,
      "outputs": [
        {
          "output_type": "stream",
          "name": "stdout",
          "text": [
            "Looking in indexes: https://pypi.org/simple, https://us-python.pkg.dev/colab-wheels/public/simple/\n",
            "Requirement already satisfied: gradio in /usr/local/lib/python3.8/dist-packages (3.18.0)\n",
            "Requirement already satisfied: matplotlib in /usr/local/lib/python3.8/dist-packages (from gradio) (3.2.2)\n",
            "Requirement already satisfied: markdown-it-py[linkify,plugins]>=2.0.0 in /usr/local/lib/python3.8/dist-packages (from gradio) (2.1.0)\n",
            "Requirement already satisfied: jinja2 in /usr/local/lib/python3.8/dist-packages (from gradio) (2.11.3)\n",
            "Requirement already satisfied: ffmpy in /usr/local/lib/python3.8/dist-packages (from gradio) (0.3.0)\n",
            "Requirement already satisfied: orjson in /usr/local/lib/python3.8/dist-packages (from gradio) (3.8.6)\n",
            "Requirement already satisfied: aiohttp in /usr/local/lib/python3.8/dist-packages (from gradio) (3.8.4)\n",
            "Requirement already satisfied: pycryptodome in /usr/local/lib/python3.8/dist-packages (from gradio) (3.17)\n",
            "Requirement already satisfied: httpx in /usr/local/lib/python3.8/dist-packages (from gradio) (0.23.3)\n",
            "Requirement already satisfied: numpy in /usr/local/lib/python3.8/dist-packages (from gradio) (1.21.6)\n",
            "Requirement already satisfied: websockets>=10.0 in /usr/local/lib/python3.8/dist-packages (from gradio) (10.4)\n",
            "Requirement already satisfied: python-multipart in /usr/local/lib/python3.8/dist-packages (from gradio) (0.0.5)\n",
            "Requirement already satisfied: uvicorn in /usr/local/lib/python3.8/dist-packages (from gradio) (0.20.0)\n",
            "Requirement already satisfied: pydub in /usr/local/lib/python3.8/dist-packages (from gradio) (0.25.1)\n",
            "Requirement already satisfied: altair>=4.2.0 in /usr/local/lib/python3.8/dist-packages (from gradio) (4.2.2)\n",
            "Requirement already satisfied: fsspec in /usr/local/lib/python3.8/dist-packages (from gradio) (2023.1.0)\n",
            "Requirement already satisfied: pydantic in /usr/local/lib/python3.8/dist-packages (from gradio) (1.10.4)\n",
            "Requirement already satisfied: pandas in /usr/local/lib/python3.8/dist-packages (from gradio) (1.3.5)\n",
            "Requirement already satisfied: typing-extensions in /usr/local/lib/python3.8/dist-packages (from gradio) (4.5.0)\n",
            "Requirement already satisfied: requests in /usr/local/lib/python3.8/dist-packages (from gradio) (2.25.1)\n",
            "Requirement already satisfied: markupsafe in /usr/local/lib/python3.8/dist-packages (from gradio) (2.0.1)\n",
            "Requirement already satisfied: pillow in /usr/local/lib/python3.8/dist-packages (from gradio) (7.1.2)\n",
            "Requirement already satisfied: pyyaml in /usr/local/lib/python3.8/dist-packages (from gradio) (6.0)\n",
            "Requirement already satisfied: aiofiles in /usr/local/lib/python3.8/dist-packages (from gradio) (23.1.0)\n",
            "Requirement already satisfied: fastapi in /usr/local/lib/python3.8/dist-packages (from gradio) (0.92.0)\n",
            "Requirement already satisfied: jsonschema>=3.0 in /usr/local/lib/python3.8/dist-packages (from altair>=4.2.0->gradio) (4.3.3)\n",
            "Requirement already satisfied: entrypoints in /usr/local/lib/python3.8/dist-packages (from altair>=4.2.0->gradio) (0.4)\n",
            "Requirement already satisfied: toolz in /usr/local/lib/python3.8/dist-packages (from altair>=4.2.0->gradio) (0.12.0)\n",
            "Requirement already satisfied: mdurl~=0.1 in /usr/local/lib/python3.8/dist-packages (from markdown-it-py[linkify,plugins]>=2.0.0->gradio) (0.1.2)\n",
            "Requirement already satisfied: linkify-it-py~=1.0 in /usr/local/lib/python3.8/dist-packages (from markdown-it-py[linkify,plugins]>=2.0.0->gradio) (1.0.3)\n",
            "Requirement already satisfied: mdit-py-plugins in /usr/local/lib/python3.8/dist-packages (from markdown-it-py[linkify,plugins]>=2.0.0->gradio) (0.3.4)\n",
            "Requirement already satisfied: pytz>=2017.3 in /usr/local/lib/python3.8/dist-packages (from pandas->gradio) (2022.7.1)\n",
            "Requirement already satisfied: python-dateutil>=2.7.3 in /usr/local/lib/python3.8/dist-packages (from pandas->gradio) (2.8.2)\n",
            "Requirement already satisfied: charset-normalizer<4.0,>=2.0 in /usr/local/lib/python3.8/dist-packages (from aiohttp->gradio) (3.0.1)\n",
            "Requirement already satisfied: aiosignal>=1.1.2 in /usr/local/lib/python3.8/dist-packages (from aiohttp->gradio) (1.3.1)\n",
            "Requirement already satisfied: async-timeout<5.0,>=4.0.0a3 in /usr/local/lib/python3.8/dist-packages (from aiohttp->gradio) (4.0.2)\n",
            "Requirement already satisfied: attrs>=17.3.0 in /usr/local/lib/python3.8/dist-packages (from aiohttp->gradio) (22.2.0)\n",
            "Requirement already satisfied: yarl<2.0,>=1.0 in /usr/local/lib/python3.8/dist-packages (from aiohttp->gradio) (1.8.2)\n",
            "Requirement already satisfied: multidict<7.0,>=4.5 in /usr/local/lib/python3.8/dist-packages (from aiohttp->gradio) (6.0.4)\n",
            "Requirement already satisfied: frozenlist>=1.1.1 in /usr/local/lib/python3.8/dist-packages (from aiohttp->gradio) (1.3.3)\n",
            "Requirement already satisfied: starlette<0.26.0,>=0.25.0 in /usr/local/lib/python3.8/dist-packages (from fastapi->gradio) (0.25.0)\n",
            "Requirement already satisfied: certifi in /usr/local/lib/python3.8/dist-packages (from httpx->gradio) (2022.12.7)\n",
            "Requirement already satisfied: sniffio in /usr/local/lib/python3.8/dist-packages (from httpx->gradio) (1.3.0)\n",
            "Requirement already satisfied: rfc3986[idna2008]<2,>=1.3 in /usr/local/lib/python3.8/dist-packages (from httpx->gradio) (1.5.0)\n",
            "Requirement already satisfied: httpcore<0.17.0,>=0.15.0 in /usr/local/lib/python3.8/dist-packages (from httpx->gradio) (0.16.3)\n",
            "Requirement already satisfied: cycler>=0.10 in /usr/local/lib/python3.8/dist-packages (from matplotlib->gradio) (0.11.0)\n",
            "Requirement already satisfied: kiwisolver>=1.0.1 in /usr/local/lib/python3.8/dist-packages (from matplotlib->gradio) (1.4.4)\n",
            "Requirement already satisfied: pyparsing!=2.0.4,!=2.1.2,!=2.1.6,>=2.0.1 in /usr/local/lib/python3.8/dist-packages (from matplotlib->gradio) (3.0.9)\n",
            "Requirement already satisfied: six>=1.4.0 in /usr/local/lib/python3.8/dist-packages (from python-multipart->gradio) (1.15.0)\n",
            "Requirement already satisfied: chardet<5,>=3.0.2 in /usr/local/lib/python3.8/dist-packages (from requests->gradio) (4.0.0)\n",
            "Requirement already satisfied: urllib3<1.27,>=1.21.1 in /usr/local/lib/python3.8/dist-packages (from requests->gradio) (1.24.3)\n",
            "Requirement already satisfied: idna<3,>=2.5 in /usr/local/lib/python3.8/dist-packages (from requests->gradio) (2.10)\n",
            "Requirement already satisfied: h11>=0.8 in /usr/local/lib/python3.8/dist-packages (from uvicorn->gradio) (0.14.0)\n",
            "Requirement already satisfied: click>=7.0 in /usr/local/lib/python3.8/dist-packages (from uvicorn->gradio) (7.1.2)\n",
            "Requirement already satisfied: anyio<5.0,>=3.0 in /usr/local/lib/python3.8/dist-packages (from httpcore<0.17.0,>=0.15.0->httpx->gradio) (3.6.2)\n",
            "Requirement already satisfied: pyrsistent!=0.17.0,!=0.17.1,!=0.17.2,>=0.14.0 in /usr/local/lib/python3.8/dist-packages (from jsonschema>=3.0->altair>=4.2.0->gradio) (0.19.3)\n",
            "Requirement already satisfied: importlib-resources>=1.4.0 in /usr/local/lib/python3.8/dist-packages (from jsonschema>=3.0->altair>=4.2.0->gradio) (5.10.2)\n",
            "Requirement already satisfied: uc-micro-py in /usr/local/lib/python3.8/dist-packages (from linkify-it-py~=1.0->markdown-it-py[linkify,plugins]>=2.0.0->gradio) (1.0.1)\n",
            "Requirement already satisfied: zipp>=3.1.0 in /usr/local/lib/python3.8/dist-packages (from importlib-resources>=1.4.0->jsonschema>=3.0->altair>=4.2.0->gradio) (3.13.0)\n"
          ]
        }
      ]
    },
    {
      "cell_type": "code",
      "source": [
        "import gradio as gr\n",
        "iface = gr.Interface(fn=abstractive_text, inputs= [\"text\"],outputs=[\"text\"],title=\"Case summary generation\")\n",
        "iface.launch(share=True)"
      ],
      "metadata": {
        "colab": {
          "base_uri": "https://localhost:8080/",
          "height": 591
        },
        "id": "yxPs3-Gn0uOv",
        "outputId": "c1e6fa42-bc2f-4c6b-99f3-3379e16d4fa2"
      },
      "execution_count": null,
      "outputs": [
        {
          "output_type": "stream",
          "name": "stdout",
          "text": [
            "Colab notebook detected. To show errors in colab notebook, set debug=True in launch()\n",
            "Running on public URL: https://4c6f21f6-4035-43dc.gradio.live\n",
            "\n",
            "This share link expires in 72 hours. For free permanent hosting and GPU upgrades (NEW!), check out Spaces: https://huggingface.co/spaces\n"
          ]
        },
        {
          "output_type": "display_data",
          "data": {
            "text/plain": [
              "<IPython.core.display.HTML object>"
            ],
            "text/html": [
              "<div><iframe src=\"https://4c6f21f6-4035-43dc.gradio.live\" width=\"100%\" height=\"500\" allow=\"autoplay; camera; microphone; clipboard-read; clipboard-write;\" frameborder=\"0\" allowfullscreen></iframe></div>"
            ]
          },
          "metadata": {}
        },
        {
          "output_type": "execute_result",
          "data": {
            "text/plain": []
          },
          "metadata": {},
          "execution_count": 60
        }
      ]
    },
    {
      "cell_type": "code",
      "source": [
        "pip freeze > requirements.txt "
      ],
      "metadata": {
        "id": "6gnwwitUzOjb"
      },
      "execution_count": null,
      "outputs": []
    }
  ]
}