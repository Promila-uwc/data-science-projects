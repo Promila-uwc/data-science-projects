{
  "cells": [
    {
      "cell_type": "markdown",
      "metadata": {
        "id": "view-in-github",
        "colab_type": "text"
      },
      "source": [
        "<a href=\"https://colab.research.google.com/github/Promila-uwc/data-science-projects/blob/main/MMPI_2FINAL__Basic_Text_Generation_Using_Bidirectional_LSTM.ipynb\" target=\"_parent\"><img src=\"https://colab.research.google.com/assets/colab-badge.svg\" alt=\"Open In Colab\"/></a>"
      ]
    },
    {
      "cell_type": "code",
      "execution_count": null,
      "metadata": {
        "id": "ECYKhwF5Rzv4"
      },
      "outputs": [],
      "source": [
        "from tensorflow.keras.preprocessing.sequence import pad_sequences\n",
        "from tensorflow.keras.layers import Embedding, LSTM, Dense, Dropout, Bidirectional\n",
        "from tensorflow.keras.preprocessing.text import Tokenizer\n",
        "from tensorflow.keras.models import Sequential\n",
        "from tensorflow.keras.optimizers import Adam\n",
        "from tensorflow.keras import regularizers\n",
        "import tensorflow.keras.utils as ku \n",
        "import numpy as np\n",
        "import string\n",
        "import nltk\n",
        "from nltk.corpus import stopwords\n"
      ]
    },
    {
      "cell_type": "markdown",
      "metadata": {
        "id": "xNmMLFWGFbM-"
      },
      "source": [
        "# **Data loading**"
      ]
    },
    {
      "cell_type": "code",
      "execution_count": null,
      "metadata": {
        "colab": {
          "base_uri": "https://localhost:8080/"
        },
        "id": "yCW3Fw6eS61C",
        "outputId": "26624413-11ec-45a5-b3eb-d5ae4857a259"
      },
      "outputs": [
        {
          "output_type": "execute_result",
          "data": {
            "text/plain": [
              "                                       MMPI-2 Prompt  \\\n",
              "0                     1. I like mechanics magazines.   \n",
              "1                         2. I have a good appetite.   \n",
              "2       3. I wake up fresh and rested most mornings.   \n",
              "3  4. I think I would enjoy the work of a librarian.   \n",
              "4                  5. I am easily awakened by noise.   \n",
              "\n",
              "                        1 Sigma Alternative   \\\n",
              "0                I enjoy mechanics magazines   \n",
              "1                                 I eat well   \n",
              "2       I have a relaxing sleep every night.   \n",
              "3             I would like to be a librarian   \n",
              "4  Loud sounds break up my sleep very easily   \n",
              "\n",
              "                        2 Sigma Alternative 1  \\\n",
              "0         I am neutral to mechanics magazines   \n",
              "1                       I eat a medium amount   \n",
              "2  I feel somewhat well-rested when I wake up   \n",
              "3      I would be okay with being a librarian   \n",
              "4  I am awakened by loud sounds occassionally   \n",
              "\n",
              "                               2 Sigma Alternative 2  \\\n",
              "0                 I am okay with mechanics magazines   \n",
              "1                              My appetite is medium   \n",
              "2     I feel moderately rested after a night's sleep   \n",
              "3  The work of a librarian would be acceptable to me   \n",
              "4                 Noise awakes me with moderate ease   \n",
              "\n",
              "                          3 Sigma Alternative 1  \\\n",
              "0                    I hate mechanics magazines   \n",
              "1                         I have a bad appetite   \n",
              "2           I wake up still tired most mornings   \n",
              "3  I think I would hate the work of a librarian   \n",
              "4                        Noise never awakens me   \n",
              "\n",
              "                              3 Sigma Alternative 2  \n",
              "0                     I despise mechanics magazines  \n",
              "1                              I don't eat any food  \n",
              "2  Sleep does not refresh me or make me feel rested  \n",
              "3                I wouldn't like to be a librarian.  \n",
              "4               I can sleep through any loud sounds  "
            ],
            "text/html": [
              "\n",
              "  <div id=\"df-ccdf0f12-2a63-4523-91dc-96e8030001e5\">\n",
              "    <div class=\"colab-df-container\">\n",
              "      <div>\n",
              "<style scoped>\n",
              "    .dataframe tbody tr th:only-of-type {\n",
              "        vertical-align: middle;\n",
              "    }\n",
              "\n",
              "    .dataframe tbody tr th {\n",
              "        vertical-align: top;\n",
              "    }\n",
              "\n",
              "    .dataframe thead th {\n",
              "        text-align: right;\n",
              "    }\n",
              "</style>\n",
              "<table border=\"1\" class=\"dataframe\">\n",
              "  <thead>\n",
              "    <tr style=\"text-align: right;\">\n",
              "      <th></th>\n",
              "      <th>MMPI-2 Prompt</th>\n",
              "      <th>1 Sigma Alternative</th>\n",
              "      <th>2 Sigma Alternative 1</th>\n",
              "      <th>2 Sigma Alternative 2</th>\n",
              "      <th>3 Sigma Alternative 1</th>\n",
              "      <th>3 Sigma Alternative 2</th>\n",
              "    </tr>\n",
              "  </thead>\n",
              "  <tbody>\n",
              "    <tr>\n",
              "      <th>0</th>\n",
              "      <td>1. I like mechanics magazines.</td>\n",
              "      <td>I enjoy mechanics magazines</td>\n",
              "      <td>I am neutral to mechanics magazines</td>\n",
              "      <td>I am okay with mechanics magazines</td>\n",
              "      <td>I hate mechanics magazines</td>\n",
              "      <td>I despise mechanics magazines</td>\n",
              "    </tr>\n",
              "    <tr>\n",
              "      <th>1</th>\n",
              "      <td>2. I have a good appetite.</td>\n",
              "      <td>I eat well</td>\n",
              "      <td>I eat a medium amount</td>\n",
              "      <td>My appetite is medium</td>\n",
              "      <td>I have a bad appetite</td>\n",
              "      <td>I don't eat any food</td>\n",
              "    </tr>\n",
              "    <tr>\n",
              "      <th>2</th>\n",
              "      <td>3. I wake up fresh and rested most mornings.</td>\n",
              "      <td>I have a relaxing sleep every night.</td>\n",
              "      <td>I feel somewhat well-rested when I wake up</td>\n",
              "      <td>I feel moderately rested after a night's sleep</td>\n",
              "      <td>I wake up still tired most mornings</td>\n",
              "      <td>Sleep does not refresh me or make me feel rested</td>\n",
              "    </tr>\n",
              "    <tr>\n",
              "      <th>3</th>\n",
              "      <td>4. I think I would enjoy the work of a librarian.</td>\n",
              "      <td>I would like to be a librarian</td>\n",
              "      <td>I would be okay with being a librarian</td>\n",
              "      <td>The work of a librarian would be acceptable to me</td>\n",
              "      <td>I think I would hate the work of a librarian</td>\n",
              "      <td>I wouldn't like to be a librarian.</td>\n",
              "    </tr>\n",
              "    <tr>\n",
              "      <th>4</th>\n",
              "      <td>5. I am easily awakened by noise.</td>\n",
              "      <td>Loud sounds break up my sleep very easily</td>\n",
              "      <td>I am awakened by loud sounds occassionally</td>\n",
              "      <td>Noise awakes me with moderate ease</td>\n",
              "      <td>Noise never awakens me</td>\n",
              "      <td>I can sleep through any loud sounds</td>\n",
              "    </tr>\n",
              "  </tbody>\n",
              "</table>\n",
              "</div>\n",
              "      <button class=\"colab-df-convert\" onclick=\"convertToInteractive('df-ccdf0f12-2a63-4523-91dc-96e8030001e5')\"\n",
              "              title=\"Convert this dataframe to an interactive table.\"\n",
              "              style=\"display:none;\">\n",
              "        \n",
              "  <svg xmlns=\"http://www.w3.org/2000/svg\" height=\"24px\"viewBox=\"0 0 24 24\"\n",
              "       width=\"24px\">\n",
              "    <path d=\"M0 0h24v24H0V0z\" fill=\"none\"/>\n",
              "    <path d=\"M18.56 5.44l.94 2.06.94-2.06 2.06-.94-2.06-.94-.94-2.06-.94 2.06-2.06.94zm-11 1L8.5 8.5l.94-2.06 2.06-.94-2.06-.94L8.5 2.5l-.94 2.06-2.06.94zm10 10l.94 2.06.94-2.06 2.06-.94-2.06-.94-.94-2.06-.94 2.06-2.06.94z\"/><path d=\"M17.41 7.96l-1.37-1.37c-.4-.4-.92-.59-1.43-.59-.52 0-1.04.2-1.43.59L10.3 9.45l-7.72 7.72c-.78.78-.78 2.05 0 2.83L4 21.41c.39.39.9.59 1.41.59.51 0 1.02-.2 1.41-.59l7.78-7.78 2.81-2.81c.8-.78.8-2.07 0-2.86zM5.41 20L4 18.59l7.72-7.72 1.47 1.35L5.41 20z\"/>\n",
              "  </svg>\n",
              "      </button>\n",
              "      \n",
              "  <style>\n",
              "    .colab-df-container {\n",
              "      display:flex;\n",
              "      flex-wrap:wrap;\n",
              "      gap: 12px;\n",
              "    }\n",
              "\n",
              "    .colab-df-convert {\n",
              "      background-color: #E8F0FE;\n",
              "      border: none;\n",
              "      border-radius: 50%;\n",
              "      cursor: pointer;\n",
              "      display: none;\n",
              "      fill: #1967D2;\n",
              "      height: 32px;\n",
              "      padding: 0 0 0 0;\n",
              "      width: 32px;\n",
              "    }\n",
              "\n",
              "    .colab-df-convert:hover {\n",
              "      background-color: #E2EBFA;\n",
              "      box-shadow: 0px 1px 2px rgba(60, 64, 67, 0.3), 0px 1px 3px 1px rgba(60, 64, 67, 0.15);\n",
              "      fill: #174EA6;\n",
              "    }\n",
              "\n",
              "    [theme=dark] .colab-df-convert {\n",
              "      background-color: #3B4455;\n",
              "      fill: #D2E3FC;\n",
              "    }\n",
              "\n",
              "    [theme=dark] .colab-df-convert:hover {\n",
              "      background-color: #434B5C;\n",
              "      box-shadow: 0px 1px 3px 1px rgba(0, 0, 0, 0.15);\n",
              "      filter: drop-shadow(0px 1px 2px rgba(0, 0, 0, 0.3));\n",
              "      fill: #FFFFFF;\n",
              "    }\n",
              "  </style>\n",
              "\n",
              "      <script>\n",
              "        const buttonEl =\n",
              "          document.querySelector('#df-ccdf0f12-2a63-4523-91dc-96e8030001e5 button.colab-df-convert');\n",
              "        buttonEl.style.display =\n",
              "          google.colab.kernel.accessAllowed ? 'block' : 'none';\n",
              "\n",
              "        async function convertToInteractive(key) {\n",
              "          const element = document.querySelector('#df-ccdf0f12-2a63-4523-91dc-96e8030001e5');\n",
              "          const dataTable =\n",
              "            await google.colab.kernel.invokeFunction('convertToInteractive',\n",
              "                                                     [key], {});\n",
              "          if (!dataTable) return;\n",
              "\n",
              "          const docLinkHtml = 'Like what you see? Visit the ' +\n",
              "            '<a target=\"_blank\" href=https://colab.research.google.com/notebooks/data_table.ipynb>data table notebook</a>'\n",
              "            + ' to learn more about interactive tables.';\n",
              "          element.innerHTML = '';\n",
              "          dataTable['output_type'] = 'display_data';\n",
              "          await google.colab.output.renderOutput(dataTable, element);\n",
              "          const docLink = document.createElement('div');\n",
              "          docLink.innerHTML = docLinkHtml;\n",
              "          element.appendChild(docLink);\n",
              "        }\n",
              "      </script>\n",
              "    </div>\n",
              "  </div>\n",
              "  "
            ]
          },
          "metadata": {},
          "execution_count": 6
        }
      ],
      "source": [
        "import pandas as pd\n",
        "df = pd.read_csv('/content/drive/MyDrive/Variational auto encoder/MMPI-2 Alternatives - Dataset v.1 (1).csv') \n",
        "df.head()"
      ]
    },
    {
      "cell_type": "code",
      "source": [
        "df1 = df[\"MMPI-2 Prompt\"]\n",
        "df2=df[\"1 Sigma Alternative \"]\n",
        "df3=df[\"2 Sigma Alternative 1\"]\n",
        "df4=df[\"3 Sigma Alternative 1\"]\n",
        "df5=df[\"3 Sigma Alternative 2\"]"
      ],
      "metadata": {
        "id": "6oPuTlMmV284"
      },
      "execution_count": null,
      "outputs": []
    },
    {
      "cell_type": "code",
      "source": [
        "frames  = [df1,df2,df3,df4,df5]\n",
        "df = pd.concat(frames)"
      ],
      "metadata": {
        "id": "I-BvyCQbWhto"
      },
      "execution_count": null,
      "outputs": []
    },
    {
      "cell_type": "code",
      "source": [
        "df.head()"
      ],
      "metadata": {
        "colab": {
          "base_uri": "https://localhost:8080/"
        },
        "id": "1ktPqi8iWxOd",
        "outputId": "6bd76307-6a39-4c92-d6d5-275263009fc3"
      },
      "execution_count": null,
      "outputs": [
        {
          "output_type": "execute_result",
          "data": {
            "text/plain": [
              "0                       1. I like mechanics magazines.\n",
              "1                           2. I have a good appetite.\n",
              "2         3. I wake up fresh and rested most mornings.\n",
              "3    4. I think I would enjoy the work of a librarian.\n",
              "4                    5. I am easily awakened by noise.\n",
              "dtype: object"
            ]
          },
          "metadata": {},
          "execution_count": 9
        }
      ]
    },
    {
      "cell_type": "code",
      "execution_count": null,
      "metadata": {
        "colab": {
          "base_uri": "https://localhost:8080/"
        },
        "id": "84G1j6xY3CI6",
        "outputId": "b41889d2-51fe-4ed4-b18a-119b9d1f5f45"
      },
      "outputs": [
        {
          "output_type": "execute_result",
          "data": {
            "text/plain": [
              "(2845,)"
            ]
          },
          "metadata": {},
          "execution_count": 10
        }
      ],
      "source": [
        "df.shape"
      ]
    },
    {
      "cell_type": "code",
      "execution_count": null,
      "metadata": {
        "colab": {
          "base_uri": "https://localhost:8080/"
        },
        "id": "6LbwQb5UMXRu",
        "outputId": "d40cfc09-b76b-4a7a-e3c1-18b53582359a"
      },
      "outputs": [
        {
          "output_type": "execute_result",
          "data": {
            "text/plain": [
              "564    NaN\n",
              "565    NaN\n",
              "566    NaN\n",
              "567    NaN\n",
              "568    NaN\n",
              "dtype: object"
            ]
          },
          "metadata": {},
          "execution_count": 11
        }
      ],
      "source": [
        "df.tail()"
      ]
    },
    {
      "cell_type": "code",
      "source": [
        "df=df.dropna()"
      ],
      "metadata": {
        "id": "qYRUAoVtXC2p"
      },
      "execution_count": null,
      "outputs": []
    },
    {
      "cell_type": "code",
      "source": [
        "df.shape"
      ],
      "metadata": {
        "colab": {
          "base_uri": "https://localhost:8080/"
        },
        "id": "3rAiUd-VXFY5",
        "outputId": "0e8babbb-6235-4981-eed0-f208af78f382"
      },
      "execution_count": null,
      "outputs": [
        {
          "output_type": "execute_result",
          "data": {
            "text/plain": [
              "(1408,)"
            ]
          },
          "metadata": {},
          "execution_count": 13
        }
      ]
    },
    {
      "cell_type": "code",
      "source": [
        "df.tail()"
      ],
      "metadata": {
        "colab": {
          "base_uri": "https://localhost:8080/"
        },
        "id": "54IDEoCEXIqO",
        "outputId": "76ee1f1e-9abc-4a77-e138-481edb645593"
      },
      "execution_count": null,
      "outputs": [
        {
          "output_type": "execute_result",
          "data": {
            "text/plain": [
              "205    I never feel that I can make up my mind with u...\n",
              "206             I would hate to belong to several clubs.\n",
              "207    I frequently notice my heart pounding and I am...\n",
              "208                          I dislike talking about sex\n",
              "209                    I dislike traveling to new places\n",
              "dtype: object"
            ]
          },
          "metadata": {},
          "execution_count": 14
        }
      ]
    },
    {
      "cell_type": "code",
      "execution_count": null,
      "metadata": {
        "id": "lvPG3Jih72b6"
      },
      "outputs": [],
      "source": [
        "# # iterating the columns\n",
        "# for col in df.columns:\n",
        "#     print(col)"
      ]
    },
    {
      "cell_type": "markdown",
      "metadata": {
        "id": "1nDETk48Fg2y"
      },
      "source": [
        "# **Data preprocessing**"
      ]
    },
    {
      "cell_type": "code",
      "execution_count": null,
      "metadata": {
        "id": "I4sZ9d-g8xu2"
      },
      "outputs": [],
      "source": [
        "# df['ColumnA'] = df[df.columns[1:]].apply(\n",
        "#     lambda x: ','.join(x.dropna().astype(str)),\n",
        "#     axis=1\n",
        "# )\n",
        "# df"
      ]
    },
    {
      "cell_type": "code",
      "execution_count": null,
      "metadata": {
        "id": "zklB-NAO84Ob"
      },
      "outputs": [],
      "source": [
        "df['ColumnA']=df"
      ]
    },
    {
      "cell_type": "code",
      "execution_count": null,
      "metadata": {
        "colab": {
          "base_uri": "https://localhost:8080/"
        },
        "id": "rfMDo3uq87qt",
        "outputId": "8ff5d442-9fff-4710-93af-bed197ff4473"
      },
      "outputs": [
        {
          "output_type": "execute_result",
          "data": {
            "text/plain": [
              "(1409,)"
            ]
          },
          "metadata": {},
          "execution_count": 43
        }
      ],
      "source": [
        "df.shape"
      ]
    },
    {
      "cell_type": "code",
      "execution_count": null,
      "metadata": {
        "colab": {
          "base_uri": "https://localhost:8080/"
        },
        "id": "iQ1bHGnZe94U",
        "outputId": "3b6cc0a3-ecd4-4537-f7d5-eb6d1d140eb4"
      },
      "outputs": [
        {
          "output_type": "stream",
          "name": "stderr",
          "text": [
            "<ipython-input-44-b7ca9ea9f5c2>:2: FutureWarning: The default value of regex will change from True to False in a future version.\n",
            "  df[\"ColumnA\"]= df[\"ColumnA\"].str.replace('\\d+', '')\n"
          ]
        }
      ],
      "source": [
        "# remove numeric digits\n",
        "df[\"ColumnA\"]= df[\"ColumnA\"].str.replace('\\d+', '')"
      ]
    },
    {
      "cell_type": "code",
      "execution_count": null,
      "metadata": {
        "colab": {
          "base_uri": "https://localhost:8080/"
        },
        "id": "ZheZ9WZLKeQp",
        "outputId": "eab6b9f2-2a60-46b8-e0d3-59c6fa8bed59"
      },
      "outputs": [
        {
          "output_type": "stream",
          "name": "stderr",
          "text": [
            "[nltk_data] Downloading package stopwords to /root/nltk_data...\n",
            "[nltk_data]   Package stopwords is already up-to-date!\n"
          ]
        }
      ],
      "source": [
        "nltk.download('stopwords')\n",
        "stop = stopwords.words('english')"
      ]
    },
    {
      "cell_type": "code",
      "execution_count": null,
      "metadata": {
        "id": "0PIdxe1LL-hj"
      },
      "outputs": [],
      "source": [
        "df[\"ColumnA\"]=df[\"ColumnA\"].fillna(\"\")\n"
      ]
    },
    {
      "cell_type": "code",
      "execution_count": null,
      "metadata": {
        "colab": {
          "base_uri": "https://localhost:8080/"
        },
        "id": "Ud4F-yiP7lin",
        "outputId": "193d3e79-d10c-4d13-ff5c-88ab84e46345"
      },
      "outputs": [
        {
          "output_type": "stream",
          "name": "stderr",
          "text": [
            "[nltk_data] Downloading package stopwords to /root/nltk_data...\n",
            "[nltk_data]   Package stopwords is already up-to-date!\n"
          ]
        }
      ],
      "source": [
        "# remove stopwords\n",
        "\n",
        "\n",
        "nltk.download('stopwords')\n",
        "from nltk.corpus import stopwords\n",
        "\n",
        "stop_words = stopwords.words('english')\n",
        "df[\"ColumnA\"]= df[\"ColumnA\"].apply(lambda x: ' '.join([word for word in x.split() if word not in (stop_words)])).fillna(\"\")"
      ]
    },
    {
      "cell_type": "code",
      "execution_count": null,
      "metadata": {
        "id": "MlHH1pg8703z",
        "colab": {
          "base_uri": "https://localhost:8080/"
        },
        "outputId": "80fbd248-aced-4290-9b08-00df6aed90be"
      },
      "outputs": [
        {
          "output_type": "stream",
          "name": "stderr",
          "text": [
            "<ipython-input-48-993981f1810a>:2: FutureWarning: The default value of regex will change from True to False in a future version.\n",
            "  df[\"ColumnA\"] = df[\"ColumnA\"].str.replace('[{}]'.format(string.punctuation), '')\n"
          ]
        }
      ],
      "source": [
        "# remove punctuations\n",
        "df[\"ColumnA\"] = df[\"ColumnA\"].str.replace('[{}]'.format(string.punctuation), '')"
      ]
    },
    {
      "cell_type": "code",
      "execution_count": null,
      "metadata": {
        "colab": {
          "base_uri": "https://localhost:8080/"
        },
        "id": "4i9eEEeVfNUT",
        "outputId": "9d141fb5-161b-4397-f3e6-4f21f9ed00c4"
      },
      "outputs": [
        {
          "output_type": "execute_result",
          "data": {
            "text/plain": [
              "0               I like mechanics magazines\n",
              "1                          I good appetite\n",
              "2             I wake fresh rested mornings\n",
              "3     I think I would enjoy work librarian\n",
              "4                  I easily awakened noise\n",
              "dtype: object"
            ]
          },
          "metadata": {},
          "execution_count": 49
        }
      ],
      "source": [
        "df[\"ColumnA\"].head()"
      ]
    },
    {
      "cell_type": "code",
      "execution_count": null,
      "metadata": {
        "colab": {
          "base_uri": "https://localhost:8080/"
        },
        "id": "2A-QvMSwf_xd",
        "outputId": "a7b85653-ab25-4c47-bb17-34649f536490"
      },
      "outputs": [
        {
          "output_type": "execute_result",
          "data": {
            "text/plain": [
              "206                        I would hate belong several clubs\n",
              "207        I frequently notice heart pounding I usually s...\n",
              "208                                    I dislike talking sex\n",
              "209                           I dislike traveling new places\n",
              "ColumnA                                                     \n",
              "dtype: object"
            ]
          },
          "metadata": {},
          "execution_count": 50
        }
      ],
      "source": [
        "df[\"ColumnA\"].tail()"
      ]
    },
    {
      "cell_type": "code",
      "execution_count": null,
      "metadata": {
        "colab": {
          "base_uri": "https://localhost:8080/"
        },
        "id": "2u5Wot3ZgDap",
        "outputId": "a45133cb-b817-4e42-e401-313037fca176"
      },
      "outputs": [
        {
          "output_type": "execute_result",
          "data": {
            "text/plain": [
              "(1409,)"
            ]
          },
          "metadata": {},
          "execution_count": 51
        }
      ],
      "source": [
        "df.shape"
      ]
    },
    {
      "cell_type": "code",
      "execution_count": null,
      "metadata": {
        "colab": {
          "base_uri": "https://localhost:8080/"
        },
        "id": "hxuGfn_vhraA",
        "outputId": "14baaab7-770d-48bc-99c5-f61e4951df2a"
      },
      "outputs": [
        {
          "output_type": "execute_result",
          "data": {
            "text/plain": [
              "1        I good appetite\n",
              "1             I eat well\n",
              "1    I eat medium amount\n",
              "1         I bad appetite\n",
              "1             I eat food\n",
              "dtype: object"
            ]
          },
          "metadata": {},
          "execution_count": 52
        }
      ],
      "source": [
        "df[\"ColumnA\"][1]"
      ]
    },
    {
      "cell_type": "code",
      "execution_count": null,
      "metadata": {
        "colab": {
          "base_uri": "https://localhost:8080/"
        },
        "id": "IYPFixKwiu7q",
        "outputId": "bc9857ec-6ecb-4eb7-9351-3552a25d5bef"
      },
      "outputs": [
        {
          "output_type": "execute_result",
          "data": {
            "text/plain": [
              "pandas.core.series.Series"
            ]
          },
          "metadata": {},
          "execution_count": 53
        }
      ],
      "source": [
        "type(df[\"ColumnA\"][1])"
      ]
    },
    {
      "cell_type": "code",
      "execution_count": null,
      "metadata": {
        "id": "RjKRSa8PjMSj"
      },
      "outputs": [],
      "source": [
        "# convert to lower\n",
        "df[\"ColumnA\"]=df[\"ColumnA\"].str.lower()"
      ]
    },
    {
      "cell_type": "code",
      "execution_count": null,
      "metadata": {
        "id": "YbjeGpRtjQ_j"
      },
      "outputs": [],
      "source": [
        "prompt = df[\"ColumnA\"]"
      ]
    },
    {
      "cell_type": "code",
      "execution_count": null,
      "metadata": {
        "id": "Nw6j-MjBkXoL"
      },
      "outputs": [],
      "source": [
        "prompt = df[\"ColumnA\"].astype(str)"
      ]
    },
    {
      "cell_type": "code",
      "execution_count": null,
      "metadata": {
        "colab": {
          "base_uri": "https://localhost:8080/"
        },
        "id": "iotFX3s4koJW",
        "outputId": "f9f03b40-cdd7-494b-b251-92ff61ad71d3"
      },
      "outputs": [
        {
          "output_type": "execute_result",
          "data": {
            "text/plain": [
              "0               i like mechanics magazines\n",
              "1                          i good appetite\n",
              "2             i wake fresh rested mornings\n",
              "3     i think i would enjoy work librarian\n",
              "4                  i easily awakened noise\n",
              "dtype: object"
            ]
          },
          "metadata": {},
          "execution_count": 57
        }
      ],
      "source": [
        "prompt.head()"
      ]
    },
    {
      "cell_type": "markdown",
      "metadata": {
        "id": "yKxlpl1aFl6Y"
      },
      "source": [
        "## **Text Tokenization**"
      ]
    },
    {
      "cell_type": "code",
      "execution_count": null,
      "metadata": {
        "id": "_9HYkQHajiHp"
      },
      "outputs": [],
      "source": [
        "import tensorflow as tf\n",
        "\n",
        "from tensorflow.keras.preprocessing.text import Tokenizer\n",
        "from tensorflow.keras.preprocessing.sequence import pad_sequences"
      ]
    },
    {
      "cell_type": "code",
      "execution_count": null,
      "metadata": {
        "id": "-q3BnOJYjrNX"
      },
      "outputs": [],
      "source": [
        "tokenizer = Tokenizer()\n",
        "tokenizer.fit_on_texts(prompt)"
      ]
    },
    {
      "cell_type": "code",
      "execution_count": null,
      "metadata": {
        "id": "QxzX3F_vksqd"
      },
      "outputs": [],
      "source": [
        "total_words = len(tokenizer.word_index) + 1"
      ]
    },
    {
      "cell_type": "code",
      "execution_count": null,
      "metadata": {
        "colab": {
          "base_uri": "https://localhost:8080/"
        },
        "id": "wiozShBjtH7Y",
        "outputId": "4124faef-d12d-4c7e-c66d-4fa8691014d3"
      },
      "outputs": [
        {
          "output_type": "stream",
          "name": "stdout",
          "text": [
            "1467\n"
          ]
        }
      ],
      "source": [
        "print(total_words)"
      ]
    },
    {
      "cell_type": "code",
      "execution_count": null,
      "metadata": {
        "colab": {
          "base_uri": "https://localhost:8080/"
        },
        "id": "39IAIqyItOkG",
        "outputId": "cc9cbaaf-2492-44c3-eee2-396ea8c165df"
      },
      "outputs": [
        {
          "output_type": "execute_result",
          "data": {
            "text/plain": [
              "0               i like mechanics magazines\n",
              "1                          i good appetite\n",
              "2             i wake fresh rested mornings\n",
              "3     i think i would enjoy work librarian\n",
              "4                  i easily awakened noise\n",
              "dtype: object"
            ]
          },
          "metadata": {},
          "execution_count": 62
        }
      ],
      "source": [
        "prompt.head()"
      ]
    },
    {
      "cell_type": "code",
      "execution_count": null,
      "metadata": {
        "id": "QDhv32FDkwlu"
      },
      "outputs": [],
      "source": [
        "# create input sequences using list of tokens\n",
        "input_sequences = []\n",
        "for line in prompt:\n",
        "    token_list = tokenizer.texts_to_sequences([line])[0]\n",
        "    for i in range(1, len(token_list)):\n",
        "        n_gram_sequence = token_list[:i+1]\n",
        "        input_sequences.append(n_gram_sequence)"
      ]
    },
    {
      "cell_type": "code",
      "execution_count": null,
      "metadata": {
        "id": "WrD1BIuxk5jL"
      },
      "outputs": [],
      "source": [
        "# pad sequences \n",
        "max_sequence_len = max([len(x) for x in input_sequences])\n",
        "input_sequences = np.array(pad_sequences(input_sequences, maxlen=max_sequence_len, padding='pre'))"
      ]
    },
    {
      "cell_type": "code",
      "execution_count": null,
      "metadata": {
        "id": "EuNUgl-5k84v"
      },
      "outputs": [],
      "source": [
        "# create predictors and label\n",
        "predictors, label = input_sequences[:,:-1],input_sequences[:,-1]\n",
        "\n",
        "label = ku.to_categorical(label, num_classes=total_words)"
      ]
    },
    {
      "cell_type": "markdown",
      "metadata": {
        "id": "L4EbFvYuFrJ6"
      },
      "source": [
        "# **Model Creation**"
      ]
    },
    {
      "cell_type": "code",
      "execution_count": null,
      "metadata": {
        "colab": {
          "base_uri": "https://localhost:8080/"
        },
        "id": "BoxjMlzoCbSX",
        "outputId": "464fa444-5e22-419a-c20f-ee1a1e8e68c3"
      },
      "outputs": [
        {
          "output_type": "stream",
          "name": "stdout",
          "text": [
            "Looking in indexes: https://pypi.org/simple, https://us-python.pkg.dev/colab-wheels/public/simple/\n",
            "Requirement already satisfied: pyyaml in /usr/local/lib/python3.8/dist-packages (6.0)\n",
            "Requirement already satisfied: h5py in /usr/local/lib/python3.8/dist-packages (3.1.0)\n",
            "Requirement already satisfied: numpy>=1.17.5 in /usr/local/lib/python3.8/dist-packages (from h5py) (1.21.6)\n"
          ]
        }
      ],
      "source": [
        "!pip install pyyaml h5py  # Required to save models in HDF5 format"
      ]
    },
    {
      "cell_type": "code",
      "execution_count": null,
      "metadata": {
        "colab": {
          "base_uri": "https://localhost:8080/"
        },
        "id": "a6MX-NiICcH5",
        "outputId": "6a929881-c980-4926-8c43-abcbd1752e45"
      },
      "outputs": [
        {
          "output_type": "stream",
          "name": "stdout",
          "text": [
            "2.9.2\n"
          ]
        }
      ],
      "source": [
        "import os\n",
        "\n",
        "import tensorflow as tf\n",
        "from tensorflow import keras\n",
        "\n",
        "print(tf.version.VERSION)"
      ]
    },
    {
      "cell_type": "code",
      "execution_count": null,
      "metadata": {
        "colab": {
          "base_uri": "https://localhost:8080/"
        },
        "id": "4qv8BI5DlA3b",
        "outputId": "4b27e720-cdff-4d62-ab32-5bc7818e3916"
      },
      "outputs": [
        {
          "output_type": "stream",
          "name": "stdout",
          "text": [
            "Model: \"sequential\"\n",
            "_________________________________________________________________\n",
            " Layer (type)                Output Shape              Param #   \n",
            "=================================================================\n",
            " embedding (Embedding)       (None, 19, 100)           146700    \n",
            "                                                                 \n",
            " bidirectional (Bidirectiona  (None, 19, 300)          301200    \n",
            " l)                                                              \n",
            "                                                                 \n",
            " dropout (Dropout)           (None, 19, 300)           0         \n",
            "                                                                 \n",
            " lstm_1 (LSTM)               (None, 100)               160400    \n",
            "                                                                 \n",
            " dense (Dense)               (None, 733)               74033     \n",
            "                                                                 \n",
            " dense_1 (Dense)             (None, 1467)              1076778   \n",
            "                                                                 \n",
            "=================================================================\n",
            "Total params: 1,759,111\n",
            "Trainable params: 1,759,111\n",
            "Non-trainable params: 0\n",
            "_________________________________________________________________\n",
            "None\n"
          ]
        }
      ],
      "source": [
        "checkpoint_path = \"/content/drive/MyDrive/Variational auto encoder\"\n",
        "checkpoint_dir = os.path.dirname(checkpoint_path)\n",
        "\n",
        "# Create a callback that saves the model's weights\n",
        "cp_callback = tf.keras.callbacks.ModelCheckpoint(filepath=checkpoint_path,\n",
        "                                                 save_weights_only=True,\n",
        "                                                 verbose=1)\n",
        "\n",
        "model = Sequential()\n",
        "model.add(Embedding(total_words, 100, input_length=max_sequence_len-1))\n",
        "model.add(Bidirectional(LSTM(150, return_sequences = True)))\n",
        "model.add(Dropout(0.2))\n",
        "model.add(LSTM(100))\n",
        "model.add(Dense(total_words/2, activation='relu', kernel_regularizer=regularizers.l2(0.01)))\n",
        "model.add(Dense(total_words, activation='softmax'))\n",
        "model.compile(loss='categorical_crossentropy', optimizer='adam', metrics=['accuracy'])\n",
        "print(model.summary())"
      ]
    },
    {
      "cell_type": "markdown",
      "metadata": {
        "id": "NViyIMZdF2fa"
      },
      "source": [
        "# **Simulation**"
      ]
    },
    {
      "cell_type": "code",
      "execution_count": null,
      "metadata": {
        "colab": {
          "base_uri": "https://localhost:8080/"
        },
        "id": "7h1B_3HXlGTZ",
        "outputId": "4eabd744-c03d-42c4-c94b-fbbd3357df1f"
      },
      "outputs": [
        {
          "output_type": "stream",
          "name": "stdout",
          "text": [
            "Epoch 1/100\n",
            "209/209 [==============================] - ETA: 0s - loss: 6.9582 - accuracy: 0.0610\n",
            "Epoch 1: saving model to /content/drive/MyDrive/Variational auto encoder\n",
            "209/209 [==============================] - 48s 197ms/step - loss: 6.9582 - accuracy: 0.0610\n",
            "Epoch 2/100\n",
            "209/209 [==============================] - ETA: 0s - loss: 6.2923 - accuracy: 0.0636\n",
            "Epoch 2: saving model to /content/drive/MyDrive/Variational auto encoder\n",
            "209/209 [==============================] - 26s 123ms/step - loss: 6.2923 - accuracy: 0.0636\n",
            "Epoch 3/100\n",
            "209/209 [==============================] - ETA: 0s - loss: 6.1411 - accuracy: 0.0636\n",
            "Epoch 3: saving model to /content/drive/MyDrive/Variational auto encoder\n",
            "209/209 [==============================] - 25s 121ms/step - loss: 6.1411 - accuracy: 0.0636\n",
            "Epoch 4/100\n",
            "209/209 [==============================] - ETA: 0s - loss: 6.0429 - accuracy: 0.0636\n",
            "Epoch 4: saving model to /content/drive/MyDrive/Variational auto encoder\n",
            "209/209 [==============================] - 26s 123ms/step - loss: 6.0429 - accuracy: 0.0636\n",
            "Epoch 5/100\n",
            "209/209 [==============================] - ETA: 0s - loss: 5.9414 - accuracy: 0.0752\n",
            "Epoch 5: saving model to /content/drive/MyDrive/Variational auto encoder\n",
            "209/209 [==============================] - 28s 132ms/step - loss: 5.9414 - accuracy: 0.0752\n",
            "Epoch 6/100\n",
            "209/209 [==============================] - ETA: 0s - loss: 5.8455 - accuracy: 0.0779\n",
            "Epoch 6: saving model to /content/drive/MyDrive/Variational auto encoder\n",
            "209/209 [==============================] - 27s 131ms/step - loss: 5.8455 - accuracy: 0.0779\n",
            "Epoch 7/100\n",
            "209/209 [==============================] - ETA: 0s - loss: 5.7537 - accuracy: 0.0805\n",
            "Epoch 7: saving model to /content/drive/MyDrive/Variational auto encoder\n",
            "209/209 [==============================] - 28s 133ms/step - loss: 5.7537 - accuracy: 0.0805\n",
            "Epoch 8/100\n",
            "209/209 [==============================] - ETA: 0s - loss: 5.6782 - accuracy: 0.0836\n",
            "Epoch 8: saving model to /content/drive/MyDrive/Variational auto encoder\n",
            "209/209 [==============================] - 26s 122ms/step - loss: 5.6782 - accuracy: 0.0836\n",
            "Epoch 9/100\n",
            "209/209 [==============================] - ETA: 0s - loss: 5.6089 - accuracy: 0.0864\n",
            "Epoch 9: saving model to /content/drive/MyDrive/Variational auto encoder\n",
            "209/209 [==============================] - 25s 121ms/step - loss: 5.6089 - accuracy: 0.0864\n",
            "Epoch 10/100\n",
            "209/209 [==============================] - ETA: 0s - loss: 5.5348 - accuracy: 0.0909\n",
            "Epoch 10: saving model to /content/drive/MyDrive/Variational auto encoder\n",
            "209/209 [==============================] - 26s 123ms/step - loss: 5.5348 - accuracy: 0.0909\n",
            "Epoch 11/100\n",
            "209/209 [==============================] - ETA: 0s - loss: 5.4840 - accuracy: 0.0924\n",
            "Epoch 11: saving model to /content/drive/MyDrive/Variational auto encoder\n",
            "209/209 [==============================] - 25s 120ms/step - loss: 5.4840 - accuracy: 0.0924\n",
            "Epoch 12/100\n",
            "209/209 [==============================] - ETA: 0s - loss: 5.4048 - accuracy: 0.0927\n",
            "Epoch 12: saving model to /content/drive/MyDrive/Variational auto encoder\n",
            "209/209 [==============================] - 26s 123ms/step - loss: 5.4048 - accuracy: 0.0927\n",
            "Epoch 13/100\n",
            "209/209 [==============================] - ETA: 0s - loss: 5.3309 - accuracy: 0.0983\n",
            "Epoch 13: saving model to /content/drive/MyDrive/Variational auto encoder\n",
            "209/209 [==============================] - 32s 153ms/step - loss: 5.3309 - accuracy: 0.0983\n",
            "Epoch 14/100\n",
            "209/209 [==============================] - ETA: 0s - loss: 5.2770 - accuracy: 0.0996\n",
            "Epoch 14: saving model to /content/drive/MyDrive/Variational auto encoder\n",
            "209/209 [==============================] - 28s 134ms/step - loss: 5.2770 - accuracy: 0.0996\n",
            "Epoch 15/100\n",
            "209/209 [==============================] - ETA: 0s - loss: 5.1896 - accuracy: 0.1017\n",
            "Epoch 15: saving model to /content/drive/MyDrive/Variational auto encoder\n",
            "209/209 [==============================] - 26s 123ms/step - loss: 5.1896 - accuracy: 0.1017\n",
            "Epoch 16/100\n",
            "209/209 [==============================] - ETA: 0s - loss: 5.1121 - accuracy: 0.1020\n",
            "Epoch 16: saving model to /content/drive/MyDrive/Variational auto encoder\n",
            "209/209 [==============================] - 26s 124ms/step - loss: 5.1121 - accuracy: 0.1020\n",
            "Epoch 17/100\n",
            "209/209 [==============================] - ETA: 0s - loss: 5.0434 - accuracy: 0.1059\n",
            "Epoch 17: saving model to /content/drive/MyDrive/Variational auto encoder\n",
            "209/209 [==============================] - 26s 123ms/step - loss: 5.0434 - accuracy: 0.1059\n",
            "Epoch 18/100\n",
            "209/209 [==============================] - ETA: 0s - loss: 4.9584 - accuracy: 0.1113\n",
            "Epoch 18: saving model to /content/drive/MyDrive/Variational auto encoder\n",
            "209/209 [==============================] - 26s 126ms/step - loss: 4.9584 - accuracy: 0.1113\n",
            "Epoch 19/100\n",
            "209/209 [==============================] - ETA: 0s - loss: 4.8875 - accuracy: 0.1134\n",
            "Epoch 19: saving model to /content/drive/MyDrive/Variational auto encoder\n",
            "209/209 [==============================] - 26s 125ms/step - loss: 4.8875 - accuracy: 0.1134\n",
            "Epoch 20/100\n",
            "209/209 [==============================] - ETA: 0s - loss: 4.8151 - accuracy: 0.1166\n",
            "Epoch 20: saving model to /content/drive/MyDrive/Variational auto encoder\n",
            "209/209 [==============================] - 26s 124ms/step - loss: 4.8151 - accuracy: 0.1166\n",
            "Epoch 21/100\n",
            "209/209 [==============================] - ETA: 0s - loss: 4.7470 - accuracy: 0.1240\n",
            "Epoch 21: saving model to /content/drive/MyDrive/Variational auto encoder\n",
            "209/209 [==============================] - 28s 134ms/step - loss: 4.7470 - accuracy: 0.1240\n",
            "Epoch 22/100\n",
            "209/209 [==============================] - ETA: 0s - loss: 4.6733 - accuracy: 0.1264\n",
            "Epoch 22: saving model to /content/drive/MyDrive/Variational auto encoder\n",
            "209/209 [==============================] - 28s 132ms/step - loss: 4.6733 - accuracy: 0.1264\n",
            "Epoch 23/100\n",
            "209/209 [==============================] - ETA: 0s - loss: 4.6063 - accuracy: 0.1355\n",
            "Epoch 23: saving model to /content/drive/MyDrive/Variational auto encoder\n",
            "209/209 [==============================] - 26s 123ms/step - loss: 4.6063 - accuracy: 0.1355\n",
            "Epoch 24/100\n",
            "209/209 [==============================] - ETA: 0s - loss: 4.5446 - accuracy: 0.1421\n",
            "Epoch 24: saving model to /content/drive/MyDrive/Variational auto encoder\n",
            "209/209 [==============================] - 26s 122ms/step - loss: 4.5446 - accuracy: 0.1421\n",
            "Epoch 25/100\n",
            "209/209 [==============================] - ETA: 0s - loss: 4.5694 - accuracy: 0.1431\n",
            "Epoch 25: saving model to /content/drive/MyDrive/Variational auto encoder\n",
            "209/209 [==============================] - 26s 124ms/step - loss: 4.5694 - accuracy: 0.1431\n",
            "Epoch 26/100\n",
            "209/209 [==============================] - ETA: 0s - loss: 4.4734 - accuracy: 0.1513\n",
            "Epoch 26: saving model to /content/drive/MyDrive/Variational auto encoder\n",
            "209/209 [==============================] - 25s 122ms/step - loss: 4.4734 - accuracy: 0.1513\n",
            "Epoch 27/100\n",
            "209/209 [==============================] - ETA: 0s - loss: 4.3930 - accuracy: 0.1584\n",
            "Epoch 27: saving model to /content/drive/MyDrive/Variational auto encoder\n",
            "209/209 [==============================] - 25s 121ms/step - loss: 4.3930 - accuracy: 0.1584\n",
            "Epoch 28/100\n",
            "209/209 [==============================] - ETA: 0s - loss: 4.3323 - accuracy: 0.1694\n",
            "Epoch 28: saving model to /content/drive/MyDrive/Variational auto encoder\n",
            "209/209 [==============================] - 26s 123ms/step - loss: 4.3323 - accuracy: 0.1694\n",
            "Epoch 29/100\n",
            "209/209 [==============================] - ETA: 0s - loss: 4.2676 - accuracy: 0.1747\n",
            "Epoch 29: saving model to /content/drive/MyDrive/Variational auto encoder\n",
            "209/209 [==============================] - 30s 144ms/step - loss: 4.2676 - accuracy: 0.1747\n",
            "Epoch 30/100\n",
            "209/209 [==============================] - ETA: 0s - loss: 4.2033 - accuracy: 0.1850\n",
            "Epoch 30: saving model to /content/drive/MyDrive/Variational auto encoder\n",
            "209/209 [==============================] - 25s 120ms/step - loss: 4.2033 - accuracy: 0.1850\n",
            "Epoch 31/100\n",
            "209/209 [==============================] - ETA: 0s - loss: 4.1494 - accuracy: 0.1884\n",
            "Epoch 31: saving model to /content/drive/MyDrive/Variational auto encoder\n",
            "209/209 [==============================] - 27s 129ms/step - loss: 4.1494 - accuracy: 0.1884\n",
            "Epoch 32/100\n",
            "209/209 [==============================] - ETA: 0s - loss: 4.0883 - accuracy: 0.2001\n",
            "Epoch 32: saving model to /content/drive/MyDrive/Variational auto encoder\n",
            "209/209 [==============================] - 26s 126ms/step - loss: 4.0883 - accuracy: 0.2001\n",
            "Epoch 33/100\n",
            "209/209 [==============================] - ETA: 0s - loss: 4.0245 - accuracy: 0.2037\n",
            "Epoch 33: saving model to /content/drive/MyDrive/Variational auto encoder\n",
            "209/209 [==============================] - 26s 123ms/step - loss: 4.0245 - accuracy: 0.2037\n",
            "Epoch 34/100\n",
            "209/209 [==============================] - ETA: 0s - loss: 3.9687 - accuracy: 0.2143\n",
            "Epoch 34: saving model to /content/drive/MyDrive/Variational auto encoder\n",
            "209/209 [==============================] - 27s 127ms/step - loss: 3.9687 - accuracy: 0.2143\n",
            "Epoch 35/100\n",
            "209/209 [==============================] - ETA: 0s - loss: 3.9297 - accuracy: 0.2200\n",
            "Epoch 35: saving model to /content/drive/MyDrive/Variational auto encoder\n",
            "209/209 [==============================] - 26s 125ms/step - loss: 3.9297 - accuracy: 0.2200\n",
            "Epoch 36/100\n",
            "209/209 [==============================] - ETA: 0s - loss: 3.8856 - accuracy: 0.2255\n",
            "Epoch 36: saving model to /content/drive/MyDrive/Variational auto encoder\n",
            "209/209 [==============================] - 31s 147ms/step - loss: 3.8856 - accuracy: 0.2255\n",
            "Epoch 37/100\n",
            "209/209 [==============================] - ETA: 0s - loss: 3.8187 - accuracy: 0.2402\n",
            "Epoch 37: saving model to /content/drive/MyDrive/Variational auto encoder\n",
            "209/209 [==============================] - 27s 131ms/step - loss: 3.8187 - accuracy: 0.2402\n",
            "Epoch 38/100\n",
            "209/209 [==============================] - ETA: 0s - loss: 3.8026 - accuracy: 0.2390\n",
            "Epoch 38: saving model to /content/drive/MyDrive/Variational auto encoder\n",
            "209/209 [==============================] - 26s 126ms/step - loss: 3.8026 - accuracy: 0.2390\n",
            "Epoch 39/100\n",
            "209/209 [==============================] - ETA: 0s - loss: 3.7382 - accuracy: 0.2494\n",
            "Epoch 39: saving model to /content/drive/MyDrive/Variational auto encoder\n",
            "209/209 [==============================] - 26s 125ms/step - loss: 3.7382 - accuracy: 0.2494\n",
            "Epoch 40/100\n",
            "209/209 [==============================] - ETA: 0s - loss: 3.6729 - accuracy: 0.2657\n",
            "Epoch 40: saving model to /content/drive/MyDrive/Variational auto encoder\n",
            "209/209 [==============================] - 26s 123ms/step - loss: 3.6729 - accuracy: 0.2657\n",
            "Epoch 41/100\n",
            "209/209 [==============================] - ETA: 0s - loss: 3.6134 - accuracy: 0.2773\n",
            "Epoch 41: saving model to /content/drive/MyDrive/Variational auto encoder\n",
            "209/209 [==============================] - 26s 124ms/step - loss: 3.6134 - accuracy: 0.2773\n",
            "Epoch 42/100\n",
            "209/209 [==============================] - ETA: 0s - loss: 3.5740 - accuracy: 0.2837\n",
            "Epoch 42: saving model to /content/drive/MyDrive/Variational auto encoder\n",
            "209/209 [==============================] - 26s 125ms/step - loss: 3.5740 - accuracy: 0.2837\n",
            "Epoch 43/100\n",
            "209/209 [==============================] - ETA: 0s - loss: 3.5315 - accuracy: 0.2906\n",
            "Epoch 43: saving model to /content/drive/MyDrive/Variational auto encoder\n",
            "209/209 [==============================] - 27s 127ms/step - loss: 3.5315 - accuracy: 0.2906\n",
            "Epoch 44/100\n",
            "209/209 [==============================] - ETA: 0s - loss: 3.4832 - accuracy: 0.3006\n",
            "Epoch 44: saving model to /content/drive/MyDrive/Variational auto encoder\n",
            "209/209 [==============================] - 28s 135ms/step - loss: 3.4832 - accuracy: 0.3006\n",
            "Epoch 45/100\n",
            "209/209 [==============================] - ETA: 0s - loss: 3.4788 - accuracy: 0.3045\n",
            "Epoch 45: saving model to /content/drive/MyDrive/Variational auto encoder\n",
            "209/209 [==============================] - 28s 136ms/step - loss: 3.4788 - accuracy: 0.3045\n",
            "Epoch 46/100\n",
            "209/209 [==============================] - ETA: 0s - loss: 3.4081 - accuracy: 0.3160\n",
            "Epoch 46: saving model to /content/drive/MyDrive/Variational auto encoder\n",
            "209/209 [==============================] - 25s 121ms/step - loss: 3.4081 - accuracy: 0.3160\n",
            "Epoch 47/100\n",
            "209/209 [==============================] - ETA: 0s - loss: 3.3532 - accuracy: 0.3279\n",
            "Epoch 47: saving model to /content/drive/MyDrive/Variational auto encoder\n",
            "209/209 [==============================] - 26s 126ms/step - loss: 3.3532 - accuracy: 0.3279\n",
            "Epoch 48/100\n",
            "209/209 [==============================] - ETA: 0s - loss: 3.3108 - accuracy: 0.3365\n",
            "Epoch 48: saving model to /content/drive/MyDrive/Variational auto encoder\n",
            "209/209 [==============================] - 26s 125ms/step - loss: 3.3108 - accuracy: 0.3365\n",
            "Epoch 49/100\n",
            "209/209 [==============================] - ETA: 0s - loss: 3.2679 - accuracy: 0.3528\n",
            "Epoch 49: saving model to /content/drive/MyDrive/Variational auto encoder\n",
            "209/209 [==============================] - 26s 123ms/step - loss: 3.2679 - accuracy: 0.3528\n",
            "Epoch 50/100\n",
            "209/209 [==============================] - ETA: 0s - loss: 3.2217 - accuracy: 0.3588\n",
            "Epoch 50: saving model to /content/drive/MyDrive/Variational auto encoder\n",
            "209/209 [==============================] - 26s 124ms/step - loss: 3.2217 - accuracy: 0.3588\n",
            "Epoch 51/100\n",
            "209/209 [==============================] - ETA: 0s - loss: 3.1941 - accuracy: 0.3635\n",
            "Epoch 51: saving model to /content/drive/MyDrive/Variational auto encoder\n",
            "209/209 [==============================] - 28s 135ms/step - loss: 3.1941 - accuracy: 0.3635\n",
            "Epoch 52/100\n",
            "209/209 [==============================] - ETA: 0s - loss: 3.1498 - accuracy: 0.3725\n",
            "Epoch 52: saving model to /content/drive/MyDrive/Variational auto encoder\n",
            "209/209 [==============================] - 29s 137ms/step - loss: 3.1498 - accuracy: 0.3725\n",
            "Epoch 53/100\n",
            "209/209 [==============================] - ETA: 0s - loss: 3.1143 - accuracy: 0.3797\n",
            "Epoch 53: saving model to /content/drive/MyDrive/Variational auto encoder\n",
            "209/209 [==============================] - 27s 129ms/step - loss: 3.1143 - accuracy: 0.3797\n",
            "Epoch 54/100\n",
            "209/209 [==============================] - ETA: 0s - loss: 3.0957 - accuracy: 0.3861\n",
            "Epoch 54: saving model to /content/drive/MyDrive/Variational auto encoder\n",
            "209/209 [==============================] - 26s 124ms/step - loss: 3.0957 - accuracy: 0.3861\n",
            "Epoch 55/100\n",
            "209/209 [==============================] - ETA: 0s - loss: 3.0565 - accuracy: 0.3902\n",
            "Epoch 55: saving model to /content/drive/MyDrive/Variational auto encoder\n",
            "209/209 [==============================] - 26s 126ms/step - loss: 3.0565 - accuracy: 0.3902\n",
            "Epoch 56/100\n",
            "209/209 [==============================] - ETA: 0s - loss: 3.0269 - accuracy: 0.4012\n",
            "Epoch 56: saving model to /content/drive/MyDrive/Variational auto encoder\n",
            "209/209 [==============================] - 25s 121ms/step - loss: 3.0269 - accuracy: 0.4012\n",
            "Epoch 57/100\n",
            "209/209 [==============================] - ETA: 0s - loss: 2.9830 - accuracy: 0.4121\n",
            "Epoch 57: saving model to /content/drive/MyDrive/Variational auto encoder\n",
            "209/209 [==============================] - 26s 127ms/step - loss: 2.9830 - accuracy: 0.4121\n",
            "Epoch 58/100\n",
            "209/209 [==============================] - ETA: 0s - loss: 2.9464 - accuracy: 0.4198\n",
            "Epoch 58: saving model to /content/drive/MyDrive/Variational auto encoder\n",
            "209/209 [==============================] - 27s 127ms/step - loss: 2.9464 - accuracy: 0.4198\n",
            "Epoch 59/100\n",
            "209/209 [==============================] - ETA: 0s - loss: 2.9178 - accuracy: 0.4274\n",
            "Epoch 59: saving model to /content/drive/MyDrive/Variational auto encoder\n",
            "209/209 [==============================] - 29s 137ms/step - loss: 2.9178 - accuracy: 0.4274\n",
            "Epoch 60/100\n",
            "209/209 [==============================] - ETA: 0s - loss: 2.9970 - accuracy: 0.4044\n",
            "Epoch 60: saving model to /content/drive/MyDrive/Variational auto encoder\n",
            "209/209 [==============================] - 26s 126ms/step - loss: 2.9970 - accuracy: 0.4044\n",
            "Epoch 61/100\n",
            "209/209 [==============================] - ETA: 0s - loss: 2.8908 - accuracy: 0.4271\n",
            "Epoch 61: saving model to /content/drive/MyDrive/Variational auto encoder\n",
            "209/209 [==============================] - 27s 127ms/step - loss: 2.8908 - accuracy: 0.4271\n",
            "Epoch 62/100\n",
            "209/209 [==============================] - ETA: 0s - loss: 2.8466 - accuracy: 0.4434\n",
            "Epoch 62: saving model to /content/drive/MyDrive/Variational auto encoder\n",
            "209/209 [==============================] - 26s 126ms/step - loss: 2.8466 - accuracy: 0.4434\n",
            "Epoch 63/100\n",
            "209/209 [==============================] - ETA: 0s - loss: 2.8025 - accuracy: 0.4500\n",
            "Epoch 63: saving model to /content/drive/MyDrive/Variational auto encoder\n",
            "209/209 [==============================] - 27s 129ms/step - loss: 2.8025 - accuracy: 0.4500\n",
            "Epoch 64/100\n",
            "209/209 [==============================] - ETA: 0s - loss: 2.7733 - accuracy: 0.4581\n",
            "Epoch 64: saving model to /content/drive/MyDrive/Variational auto encoder\n",
            "209/209 [==============================] - 27s 127ms/step - loss: 2.7733 - accuracy: 0.4581\n",
            "Epoch 65/100\n",
            "209/209 [==============================] - ETA: 0s - loss: 2.7376 - accuracy: 0.4639\n",
            "Epoch 65: saving model to /content/drive/MyDrive/Variational auto encoder\n",
            "209/209 [==============================] - 27s 127ms/step - loss: 2.7376 - accuracy: 0.4639\n",
            "Epoch 66/100\n",
            "209/209 [==============================] - ETA: 0s - loss: 2.7185 - accuracy: 0.4642\n",
            "Epoch 66: saving model to /content/drive/MyDrive/Variational auto encoder\n",
            "209/209 [==============================] - 28s 133ms/step - loss: 2.7185 - accuracy: 0.4642\n",
            "Epoch 67/100\n",
            "209/209 [==============================] - ETA: 0s - loss: 2.6776 - accuracy: 0.4767\n",
            "Epoch 67: saving model to /content/drive/MyDrive/Variational auto encoder\n",
            "209/209 [==============================] - 26s 124ms/step - loss: 2.6776 - accuracy: 0.4767\n",
            "Epoch 68/100\n",
            "209/209 [==============================] - ETA: 0s - loss: 2.6661 - accuracy: 0.4826\n",
            "Epoch 68: saving model to /content/drive/MyDrive/Variational auto encoder\n",
            "209/209 [==============================] - 26s 125ms/step - loss: 2.6661 - accuracy: 0.4826\n",
            "Epoch 69/100\n",
            "209/209 [==============================] - ETA: 0s - loss: 2.6334 - accuracy: 0.4911\n",
            "Epoch 69: saving model to /content/drive/MyDrive/Variational auto encoder\n",
            "209/209 [==============================] - 26s 123ms/step - loss: 2.6334 - accuracy: 0.4911\n",
            "Epoch 70/100\n",
            "209/209 [==============================] - ETA: 0s - loss: 2.6057 - accuracy: 0.4951\n",
            "Epoch 70: saving model to /content/drive/MyDrive/Variational auto encoder\n",
            "209/209 [==============================] - 26s 125ms/step - loss: 2.6057 - accuracy: 0.4951\n",
            "Epoch 71/100\n",
            "209/209 [==============================] - ETA: 0s - loss: 2.5828 - accuracy: 0.4981\n",
            "Epoch 71: saving model to /content/drive/MyDrive/Variational auto encoder\n",
            "209/209 [==============================] - 26s 126ms/step - loss: 2.5828 - accuracy: 0.4981\n",
            "Epoch 72/100\n",
            "209/209 [==============================] - ETA: 0s - loss: 2.5689 - accuracy: 0.4990\n",
            "Epoch 72: saving model to /content/drive/MyDrive/Variational auto encoder\n",
            "209/209 [==============================] - 26s 126ms/step - loss: 2.5689 - accuracy: 0.4990\n",
            "Epoch 73/100\n",
            "209/209 [==============================] - ETA: 0s - loss: 2.5422 - accuracy: 0.5092\n",
            "Epoch 73: saving model to /content/drive/MyDrive/Variational auto encoder\n",
            "209/209 [==============================] - 27s 128ms/step - loss: 2.5422 - accuracy: 0.5092\n",
            "Epoch 74/100\n",
            "209/209 [==============================] - ETA: 0s - loss: 2.5891 - accuracy: 0.4957\n",
            "Epoch 74: saving model to /content/drive/MyDrive/Variational auto encoder\n",
            "209/209 [==============================] - 28s 135ms/step - loss: 2.5891 - accuracy: 0.4957\n",
            "Epoch 75/100\n",
            "209/209 [==============================] - ETA: 0s - loss: 2.5053 - accuracy: 0.5146\n",
            "Epoch 75: saving model to /content/drive/MyDrive/Variational auto encoder\n",
            "209/209 [==============================] - 26s 125ms/step - loss: 2.5053 - accuracy: 0.5146\n",
            "Epoch 76/100\n",
            "209/209 [==============================] - ETA: 0s - loss: 2.4746 - accuracy: 0.5206\n",
            "Epoch 76: saving model to /content/drive/MyDrive/Variational auto encoder\n",
            "209/209 [==============================] - 26s 124ms/step - loss: 2.4746 - accuracy: 0.5206\n",
            "Epoch 77/100\n",
            "209/209 [==============================] - ETA: 0s - loss: 2.4480 - accuracy: 0.5289\n",
            "Epoch 77: saving model to /content/drive/MyDrive/Variational auto encoder\n",
            "209/209 [==============================] - 27s 127ms/step - loss: 2.4480 - accuracy: 0.5289\n",
            "Epoch 78/100\n",
            "209/209 [==============================] - ETA: 0s - loss: 2.4294 - accuracy: 0.5325\n",
            "Epoch 78: saving model to /content/drive/MyDrive/Variational auto encoder\n",
            "209/209 [==============================] - 27s 127ms/step - loss: 2.4294 - accuracy: 0.5325\n",
            "Epoch 79/100\n",
            "209/209 [==============================] - ETA: 0s - loss: 2.4174 - accuracy: 0.5348\n",
            "Epoch 79: saving model to /content/drive/MyDrive/Variational auto encoder\n",
            "209/209 [==============================] - 27s 127ms/step - loss: 2.4174 - accuracy: 0.5348\n",
            "Epoch 80/100\n",
            "209/209 [==============================] - ETA: 0s - loss: 2.3826 - accuracy: 0.5419\n",
            "Epoch 80: saving model to /content/drive/MyDrive/Variational auto encoder\n",
            "209/209 [==============================] - 26s 123ms/step - loss: 2.3826 - accuracy: 0.5419\n",
            "Epoch 81/100\n",
            "209/209 [==============================] - ETA: 0s - loss: 2.3695 - accuracy: 0.5460\n",
            "Epoch 81: saving model to /content/drive/MyDrive/Variational auto encoder\n",
            "209/209 [==============================] - 29s 137ms/step - loss: 2.3695 - accuracy: 0.5460\n",
            "Epoch 82/100\n",
            "209/209 [==============================] - ETA: 0s - loss: 2.3553 - accuracy: 0.5535\n",
            "Epoch 82: saving model to /content/drive/MyDrive/Variational auto encoder\n",
            "209/209 [==============================] - 26s 125ms/step - loss: 2.3553 - accuracy: 0.5535\n",
            "Epoch 83/100\n",
            "209/209 [==============================] - ETA: 0s - loss: 2.3294 - accuracy: 0.5560\n",
            "Epoch 83: saving model to /content/drive/MyDrive/Variational auto encoder\n",
            "209/209 [==============================] - 26s 124ms/step - loss: 2.3294 - accuracy: 0.5560\n",
            "Epoch 84/100\n",
            "209/209 [==============================] - ETA: 0s - loss: 2.3174 - accuracy: 0.5536\n",
            "Epoch 84: saving model to /content/drive/MyDrive/Variational auto encoder\n",
            "209/209 [==============================] - 26s 126ms/step - loss: 2.3174 - accuracy: 0.5536\n",
            "Epoch 85/100\n",
            "209/209 [==============================] - ETA: 0s - loss: 2.3113 - accuracy: 0.5602\n",
            "Epoch 85: saving model to /content/drive/MyDrive/Variational auto encoder\n",
            "209/209 [==============================] - 26s 126ms/step - loss: 2.3113 - accuracy: 0.5602\n",
            "Epoch 86/100\n",
            "209/209 [==============================] - ETA: 0s - loss: 2.2711 - accuracy: 0.5741\n",
            "Epoch 86: saving model to /content/drive/MyDrive/Variational auto encoder\n",
            "209/209 [==============================] - 26s 125ms/step - loss: 2.2711 - accuracy: 0.5741\n",
            "Epoch 87/100\n",
            "209/209 [==============================] - ETA: 0s - loss: 2.2591 - accuracy: 0.5653\n",
            "Epoch 87: saving model to /content/drive/MyDrive/Variational auto encoder\n",
            "209/209 [==============================] - 26s 123ms/step - loss: 2.2591 - accuracy: 0.5653\n",
            "Epoch 88/100\n",
            "209/209 [==============================] - ETA: 0s - loss: 2.2462 - accuracy: 0.5717\n",
            "Epoch 88: saving model to /content/drive/MyDrive/Variational auto encoder\n",
            "209/209 [==============================] - 27s 127ms/step - loss: 2.2462 - accuracy: 0.5717\n",
            "Epoch 89/100\n",
            "209/209 [==============================] - ETA: 0s - loss: 2.2300 - accuracy: 0.5716\n",
            "Epoch 89: saving model to /content/drive/MyDrive/Variational auto encoder\n",
            "209/209 [==============================] - 28s 136ms/step - loss: 2.2300 - accuracy: 0.5716\n",
            "Epoch 90/100\n",
            "209/209 [==============================] - ETA: 0s - loss: 2.2120 - accuracy: 0.5772\n",
            "Epoch 90: saving model to /content/drive/MyDrive/Variational auto encoder\n",
            "209/209 [==============================] - 26s 126ms/step - loss: 2.2120 - accuracy: 0.5772\n",
            "Epoch 91/100\n",
            "209/209 [==============================] - ETA: 0s - loss: 2.1884 - accuracy: 0.5862\n",
            "Epoch 91: saving model to /content/drive/MyDrive/Variational auto encoder\n",
            "209/209 [==============================] - 26s 124ms/step - loss: 2.1884 - accuracy: 0.5862\n",
            "Epoch 92/100\n",
            "209/209 [==============================] - ETA: 0s - loss: 2.1911 - accuracy: 0.5798\n",
            "Epoch 92: saving model to /content/drive/MyDrive/Variational auto encoder\n",
            "209/209 [==============================] - 27s 128ms/step - loss: 2.1911 - accuracy: 0.5798\n",
            "Epoch 93/100\n",
            "209/209 [==============================] - ETA: 0s - loss: 2.1658 - accuracy: 0.5882\n",
            "Epoch 93: saving model to /content/drive/MyDrive/Variational auto encoder\n",
            "209/209 [==============================] - 27s 128ms/step - loss: 2.1658 - accuracy: 0.5882\n",
            "Epoch 94/100\n",
            "209/209 [==============================] - ETA: 0s - loss: 2.1553 - accuracy: 0.5865\n",
            "Epoch 94: saving model to /content/drive/MyDrive/Variational auto encoder\n",
            "209/209 [==============================] - 26s 127ms/step - loss: 2.1553 - accuracy: 0.5865\n",
            "Epoch 95/100\n",
            "209/209 [==============================] - ETA: 0s - loss: 2.1318 - accuracy: 0.5982\n",
            "Epoch 95: saving model to /content/drive/MyDrive/Variational auto encoder\n",
            "209/209 [==============================] - 27s 129ms/step - loss: 2.1318 - accuracy: 0.5982\n",
            "Epoch 96/100\n",
            "209/209 [==============================] - ETA: 0s - loss: 2.1227 - accuracy: 0.5931\n",
            "Epoch 96: saving model to /content/drive/MyDrive/Variational auto encoder\n",
            "209/209 [==============================] - 28s 135ms/step - loss: 2.1227 - accuracy: 0.5931\n",
            "Epoch 97/100\n",
            "209/209 [==============================] - ETA: 0s - loss: 2.1156 - accuracy: 0.5997\n",
            "Epoch 97: saving model to /content/drive/MyDrive/Variational auto encoder\n",
            "209/209 [==============================] - 27s 128ms/step - loss: 2.1156 - accuracy: 0.5997\n",
            "Epoch 98/100\n",
            "209/209 [==============================] - ETA: 0s - loss: 2.1327 - accuracy: 0.5902\n",
            "Epoch 98: saving model to /content/drive/MyDrive/Variational auto encoder\n",
            "209/209 [==============================] - 26s 125ms/step - loss: 2.1327 - accuracy: 0.5902\n",
            "Epoch 99/100\n",
            "209/209 [==============================] - ETA: 0s - loss: 2.0963 - accuracy: 0.5977\n",
            "Epoch 99: saving model to /content/drive/MyDrive/Variational auto encoder\n",
            "209/209 [==============================] - 27s 127ms/step - loss: 2.0963 - accuracy: 0.5977\n",
            "Epoch 100/100\n",
            "209/209 [==============================] - ETA: 0s - loss: 2.0815 - accuracy: 0.6058\n",
            "Epoch 100: saving model to /content/drive/MyDrive/Variational auto encoder\n",
            "209/209 [==============================] - 26s 124ms/step - loss: 2.0815 - accuracy: 0.6058\n"
          ]
        }
      ],
      "source": [
        "history = model.fit(predictors, label, batch_size=32,epochs=100, verbose=1,callbacks=[cp_callback])"
      ]
    },
    {
      "cell_type": "code",
      "execution_count": null,
      "metadata": {
        "colab": {
          "base_uri": "https://localhost:8080/"
        },
        "id": "PSbUxELiBxA2",
        "outputId": "13afa621-8ca5-49a0-b610-3dac4c94ebb0"
      },
      "outputs": [
        {
          "output_type": "execute_result",
          "data": {
            "text/plain": [
              "['More for the Axa.gdoc',\n",
              " 'more about text docs.gdoc',\n",
              " 'xdi-tcni-vfc – 25 Jul 2022 (1).gjam',\n",
              " 'xdi-tcni-vfc – 25 Jul 2022.gjam',\n",
              " 'Untitled document (5).gdoc',\n",
              " 'workflow_Promila.gdoc',\n",
              " 'UWC apps report.gdoc',\n",
              " 'Untitled document (4).gdoc',\n",
              " 'Untitled document (3).gdoc',\n",
              " 'Ncif7Z-NICHQ-Vanderbilt-Assessment-Scales.pdf',\n",
              " 'Untitled document (2).gdoc',\n",
              " 'Untitled document (1).gdoc',\n",
              " 'Untitled document.gdoc',\n",
              " 'New paid packages issues.gdoc',\n",
              " 'Dashborad API draft.gdoc',\n",
              " 'Old template field copy function draft.gdoc',\n",
              " 'Promila_Ghosh.pdf',\n",
              " 'Ncif7Z-NICHQ-Vanderbilt-Assessment-Scales.gdoc',\n",
              " 'Worksheet and course status flow.gdoc',\n",
              " 'promila_ghosh.jpg',\n",
              " 'Screenshot from 2022-10-19 18-00-40.png',\n",
              " 'Experts Issues Tracker.gsheet',\n",
              " 'Worksheet upload photos.gdoc',\n",
              " 'FastAPI worksheet.gsheet',\n",
              " 'App Issues Tracker.gsheet',\n",
              " 'Project Wireframes.gslides',\n",
              " 'Demo_MMPI.gsheet',\n",
              " 'neraaj.mp4',\n",
              " 'Colab Notebooks',\n",
              " 'MMPI-2 Alternatives dataset - Dataset v.2.csv',\n",
              " 'MMPI-2 Alternatives dataset.gsheet',\n",
              " 'test of MMPI-2 Alternatives dataset - Dataset v.2.csv',\n",
              " 'test of MMPI-2 Alternatives dataset.gsheet',\n",
              " 'Untitled spreadsheet.gsheet',\n",
              " 'Trial_anova_2_way.gsheet',\n",
              " 'Variational auto encoder',\n",
              " 'Lead analysis report December 21 .gdoc',\n",
              " 'Variational Auto-Encoders.pdf',\n",
              " 'MMPI-2 Alternatives - Dataset v.1.csv',\n",
              " 'demo_of Bi-Lstm_Copy of MMPI-2 Alternatives - Dataset v.1.csv',\n",
              " 'demo_of Bi-Lstm_Copy of MMPI-2 Alternatives.gsheet',\n",
              " 'Bi-Lstm_Copy of MMPI-2 Alternatives.gsheet',\n",
              " 'Project proposal.gdoc',\n",
              " 'Banners.zip',\n",
              " 'Social Media Mangement Test.gdoc',\n",
              " 'Shovon Mitra.pdf',\n",
              " 'ztest, anova',\n",
              " 'MMPI-PROTOTYPE.drawio',\n",
              " 'Variational auto encoder.index',\n",
              " 'checkpoint',\n",
              " 'Variational auto encoder.data-00000-of-00001',\n",
              " 'Variational Auto-Encoders.gdoc',\n",
              " 'Holiday effects.gdoc',\n",
              " 'Copy of Submission Answer Of Home Task.gdoc',\n",
              " 'Bert_Keywords_Extraction.gdoc',\n",
              " 'articles.gsheet',\n",
              " 'Article keywords extractions',\n",
              " 'Fuzzy Search.gdoc',\n",
              " 'Posts-Export-2023-January-12-0627 (2).csv',\n",
              " 'Posts-Export-2023-January-12-0627 (1).csv',\n",
              " 'Posts-Export-2023-January-12-0627.csv',\n",
              " 'Posts-Export-2023-January-12-0627.gsheet',\n",
              " 'uwc_keywords_articles_high_to_low.csv',\n",
              " 'uwc_keywords_articles_high_to_low.gsheet',\n",
              " 'DATA SCIENCE (AI) PROPOSED ROAD MAP 2023.gslides',\n",
              " 'uwc_keywords_articles_high_to_low_final (1).csv',\n",
              " 'uwc_keywords_articles_high_to_low_final (1).gsheet',\n",
              " 'UWC_Articles_Dataset_and_Keywords.gsheet']"
            ]
          },
          "metadata": {},
          "execution_count": 70
        }
      ],
      "source": [
        "os.listdir(checkpoint_dir)"
      ]
    },
    {
      "cell_type": "code",
      "execution_count": null,
      "metadata": {
        "colab": {
          "base_uri": "https://localhost:8080/",
          "height": 35
        },
        "id": "QrseR7VpBx3V",
        "outputId": "455a8f62-05db-4bb0-a6e3-e6e5a9bf5272"
      },
      "outputs": [
        {
          "output_type": "execute_result",
          "data": {
            "text/plain": [
              "'/content/drive/MyDrive/Variational auto encoder'"
            ],
            "application/vnd.google.colaboratory.intrinsic+json": {
              "type": "string"
            }
          },
          "metadata": {},
          "execution_count": 71
        }
      ],
      "source": [
        "latest = tf.train.latest_checkpoint(checkpoint_dir)\n",
        "latest"
      ]
    },
    {
      "cell_type": "code",
      "execution_count": null,
      "metadata": {
        "id": "yBX0EkBoCCHY",
        "colab": {
          "base_uri": "https://localhost:8080/"
        },
        "outputId": "cdfcb199-95c1-4b8a-ebe4-6dc70d993644"
      },
      "outputs": [
        {
          "output_type": "stream",
          "name": "stderr",
          "text": [
            "WARNING:absl:Found untraced functions such as lstm_cell_3_layer_call_fn, lstm_cell_3_layer_call_and_return_conditional_losses, lstm_cell_1_layer_call_fn, lstm_cell_1_layer_call_and_return_conditional_losses, lstm_cell_2_layer_call_fn while saving (showing 5 of 6). These functions will not be directly callable after loading.\n"
          ]
        }
      ],
      "source": [
        "# Save the entire model as a SavedModel.\n",
        "!mkdir -p saved_model\n",
        "model.save('/content/drive/MyDrive/Variational auto encoder/mmpi_2_alter_with_vae') "
      ]
    },
    {
      "cell_type": "code",
      "execution_count": null,
      "metadata": {
        "colab": {
          "base_uri": "https://localhost:8080/",
          "height": 545
        },
        "id": "gwtVAf5llM5O",
        "outputId": "805450ad-eae3-4b0c-ba32-7873cb16f745"
      },
      "outputs": [
        {
          "output_type": "display_data",
          "data": {
            "text/plain": [
              "<Figure size 432x288 with 1 Axes>"
            ],
            "image/png": "[encoded data removed]"
          },
          "metadata": {
            "needs_background": "light"
          }
        },
        {
          "output_type": "display_data",
          "data": {
            "text/plain": [
              "<Figure size 432x288 with 1 Axes>"
            ],
            "image/png": "[encoded data removed]"
          },
          "metadata": {
            "needs_background": "light"
          }
        }
      ],
      "source": [
        "import matplotlib.pyplot as plt\n",
        "acc = history.history['accuracy']\n",
        "loss = history.history['loss']\n",
        "epochs = range(len(acc))\n",
        "plt.plot(epochs, acc, 'b', label='Training accuracy')\n",
        "plt.title('Training accuracy')\n",
        "plt.figure()\n",
        "plt.plot(epochs, loss, 'b', label='Training Loss')\n",
        "plt.title('Training loss')\n",
        "plt.legend()\n",
        "plt.show()"
      ]
    },
    {
      "cell_type": "markdown",
      "metadata": {
        "id": "ZE0NXxeIF5xu"
      },
      "source": [
        "# **Test the model**"
      ]
    },
    {
      "cell_type": "code",
      "execution_count": null,
      "metadata": {
        "colab": {
          "base_uri": "https://localhost:8080/"
        },
        "id": "pxy_0PF1U8FZ",
        "outputId": "f6766999-fb9a-424b-9d10-572b2540f4bb"
      },
      "outputs": [
        {
          "output_type": "stream",
          "name": "stdout",
          "text": [
            "1/1 [==============================] - 4s 4s/step\n",
            "I wake up fresh and rested most  people\n"
          ]
        }
      ],
      "source": [
        "#predicting the next word using an initial sentence\n",
        "input_phrase = \"I wake up fresh and rested most \"\n",
        "next_words = 1\n",
        "  \n",
        "for _ in range(next_words):\n",
        "\ttoken_list = tokenizer.texts_to_sequences([input_phrase])[0] #converting our input_phrase to tokens and excluding the out of vcabulary words\n",
        "\ttoken_list = pad_sequences([token_list], maxlen=max_sequence_len-1, padding='pre') #padding the input_phrase\n",
        "\tpredicted =  np.argmax(model.predict(token_list),axis=1) #predicting the token of the next word using our trained model\n",
        "\toutput_word = \"\" #initialising output word as blank at the beginning\n",
        "\tfor word, index in tokenizer.word_index.items():\n",
        "\t\tif index == predicted:\n",
        "\t\t\toutput_word = word #converting the token back to the corresponding word and storing it in the output_word\n",
        "\t\t\tbreak\n",
        "\tinput_phrase += \" \" + output_word\n",
        "print(input_phrase)"
      ]
    },
    {
      "cell_type": "code",
      "execution_count": null,
      "metadata": {
        "colab": {
          "base_uri": "https://localhost:8080/"
        },
        "id": "F2CamZIJEbxz",
        "outputId": "f0e33fe8-e6b2-4329-b7e4-cc36c68999bf"
      },
      "outputs": [
        {
          "output_type": "stream",
          "name": "stdout",
          "text": [
            "1/1 [==============================] - 0s 25ms/step\n",
            "I have a relaxing  pull\n"
          ]
        }
      ],
      "source": [
        "#predicting the next word using an initial sentence\n",
        "input_phrase = \"I have a relaxing \"\n",
        "next_words = 1\n",
        "  \n",
        "for _ in range(next_words):\n",
        "\ttoken_list = tokenizer.texts_to_sequences([input_phrase])[0] #converting our input_phrase to tokens and excluding the out of vcabulary words\n",
        "\ttoken_list = pad_sequences([token_list], maxlen=max_sequence_len-1, padding='pre') #padding the input_phrase\n",
        "\tpredicted =  np.argmax(model.predict(token_list),axis=1) #predicting the token of the next word using our trained model\n",
        "\toutput_word = \"\" #initialising output word as blank at the beginning\n",
        "\tfor word, index in tokenizer.word_index.items():\n",
        "\t\tif index == predicted:\n",
        "\t\t\toutput_word = word #converting the token back to the corresponding word and storing it in the output_word\n",
        "\t\t\tbreak\n",
        "\tinput_phrase += \" \" + output_word\n",
        "print(input_phrase)"
      ]
    },
    {
      "cell_type": "code",
      "execution_count": null,
      "metadata": {
        "id": "CwUOp0CWEfUi",
        "colab": {
          "base_uri": "https://localhost:8080/"
        },
        "outputId": "1010d623-7832-48cf-f225-731b8147ec43"
      },
      "outputs": [
        {
          "output_type": "stream",
          "name": "stdout",
          "text": [
            "1/1 [==============================] - 0s 30ms/step\n",
            "I feel somewhat  wellrested\n"
          ]
        }
      ],
      "source": [
        "#predicting the next word using an initial sentence\n",
        "input_phrase = \"I feel somewhat \"\n",
        "next_words = 1\n",
        "  \n",
        "for _ in range(next_words):\n",
        "\ttoken_list = tokenizer.texts_to_sequences([input_phrase])[0] #converting our input_phrase to tokens and excluding the out of vcabulary words\n",
        "\ttoken_list = pad_sequences([token_list], maxlen=max_sequence_len-1, padding='pre') #padding the input_phrase\n",
        "\tpredicted =  np.argmax(model.predict(token_list),axis=1) #predicting the token of the next word using our trained model\n",
        "\toutput_word = \"\" #initialising output word as blank at the beginning\n",
        "\tfor word, index in tokenizer.word_index.items():\n",
        "\t\tif index == predicted:\n",
        "\t\t\toutput_word = word #converting the token back to the corresponding word and storing it in the output_word\n",
        "\t\t\tbreak\n",
        "\tinput_phrase += \" \" + output_word\n",
        "print(input_phrase)"
      ]
    },
    {
      "cell_type": "code",
      "execution_count": null,
      "metadata": {
        "id": "FnkSesYAFZOD",
        "colab": {
          "base_uri": "https://localhost:8080/"
        },
        "outputId": "ddcd591c-d53f-4d86-aa75-f081499ef7de"
      },
      "outputs": [
        {
          "output_type": "stream",
          "name": "stdout",
          "text": [
            "1/1 [==============================] - 0s 23ms/step\n",
            "I feel moderately rested after a night's  start\n"
          ]
        }
      ],
      "source": [
        "#predicting the next word using an initial sentence\n",
        "input_phrase = \"I feel moderately rested after a night's \"\n",
        "next_words = 1\n",
        "  \n",
        "for _ in range(next_words):\n",
        "\ttoken_list = tokenizer.texts_to_sequences([input_phrase])[0] #converting our input_phrase to tokens and excluding the out of vcabulary words\n",
        "\ttoken_list = pad_sequences([token_list], maxlen=max_sequence_len-1, padding='pre') #padding the input_phrase\n",
        "\tpredicted =  np.argmax(model.predict(token_list),axis=1) #predicting the token of the next word using our trained model\n",
        "\toutput_word = \"\" #initialising output word as blank at the beginning\n",
        "\tfor word, index in tokenizer.word_index.items():\n",
        "\t\tif index == predicted:\n",
        "\t\t\toutput_word = word #converting the token back to the corresponding word and storing it in the output_word\n",
        "\t\t\tbreak\n",
        "\tinput_phrase += \" \" + output_word\n",
        "print(input_phrase)"
      ]
    },
    {
      "cell_type": "code",
      "execution_count": null,
      "metadata": {
        "id": "FOIGvpI9FaWa",
        "colab": {
          "base_uri": "https://localhost:8080/"
        },
        "outputId": "e36b0840-f7e4-4756-9f0e-fe808a2be794"
      },
      "outputs": [
        {
          "output_type": "stream",
          "name": "stdout",
          "text": [
            "1/1 [==============================] - 0s 24ms/step\n",
            "I wake up still tired most  people\n"
          ]
        }
      ],
      "source": [
        "#predicting the next word using an initial sentence\n",
        "input_phrase = \"I wake up still tired most \"\n",
        "next_words = 1\n",
        "  \n",
        "for _ in range(next_words):\n",
        "\ttoken_list = tokenizer.texts_to_sequences([input_phrase])[0] #converting our input_phrase to tokens and excluding the out of vcabulary words\n",
        "\ttoken_list = pad_sequences([token_list], maxlen=max_sequence_len-1, padding='pre') #padding the input_phrase\n",
        "\tpredicted =  np.argmax(model.predict(token_list),axis=1) #predicting the token of the next word using our trained model\n",
        "\toutput_word = \"\" #initialising output word as blank at the beginning\n",
        "\tfor word, index in tokenizer.word_index.items():\n",
        "\t\tif index == predicted:\n",
        "\t\t\toutput_word = word #converting the token back to the corresponding word and storing it in the output_word\n",
        "\t\t\tbreak\n",
        "\tinput_phrase += \" \" + output_word\n",
        "print(input_phrase)"
      ]
    },
    {
      "cell_type": "code",
      "execution_count": null,
      "metadata": {
        "id": "TOGYXOpIDFb1",
        "colab": {
          "base_uri": "https://localhost:8080/"
        },
        "outputId": "986e5d09-25b0-4d78-ab91-1ddd0776ac26"
      },
      "outputs": [
        {
          "output_type": "stream",
          "name": "stdout",
          "text": [
            "1/1 [==============================] - 0s 29ms/step\n",
            "Sleep does not refresh me or make me feel  i\n"
          ]
        }
      ],
      "source": [
        "#predicting the next word using an initial sentence\n",
        "input_phrase = \"Sleep does not refresh me or make me feel \"\n",
        "next_words = 1\n",
        "  \n",
        "for _ in range(next_words):\n",
        "\ttoken_list = tokenizer.texts_to_sequences([input_phrase])[0] #converting our input_phrase to tokens and excluding the out of vcabulary words\n",
        "\ttoken_list = pad_sequences([token_list], maxlen=max_sequence_len-1, padding='pre') #padding the input_phrase\n",
        "\tpredicted =  np.argmax(model.predict(token_list),axis=1) #predicting the token of the next word using our trained model\n",
        "\toutput_word = \"\" #initialising output word as blank at the beginning\n",
        "\tfor word, index in tokenizer.word_index.items():\n",
        "\t\tif index == predicted:\n",
        "\t\t\toutput_word = word #converting the token back to the corresponding word and storing it in the output_word\n",
        "\t\t\tbreak\n",
        "\tinput_phrase += \" \" + output_word\n",
        "print(input_phrase)"
      ]
    }
  ],
  "metadata": {
    "colab": {
      "collapsed_sections": [
        "xNmMLFWGFbM-",
        "1nDETk48Fg2y",
        "yKxlpl1aFl6Y",
        "L4EbFvYuFrJ6",
        "ZE0NXxeIF5xu"
      ],
      "provenance": [],
      "mount_file_id": "1d9nKrXZ6t9CrxBOB6OY2mbt34HdaLaOs",
      "authorship_tag": "ABX9TyOvfNmmQG6gLSOjSRbt8ose",
      "include_colab_link": true
    },
    "kernelspec": {
      "display_name": "Python 3",
      "name": "python3"
    },
    "language_info": {
      "name": "python"
    }
  },
  "nbformat": 4,
  "nbformat_minor": 0
}